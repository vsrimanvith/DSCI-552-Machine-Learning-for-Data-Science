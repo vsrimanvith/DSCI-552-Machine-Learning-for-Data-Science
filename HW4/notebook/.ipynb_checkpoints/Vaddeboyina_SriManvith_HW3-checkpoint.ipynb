{
 "cells": [
  {
   "cell_type": "markdown",
   "id": "7964b8cf",
   "metadata": {},
   "source": [
    "<center><h1>DSCI 552: Machine Learning for Data Science</h1></center><br>\n",
    "<center>Time Series Classification</center>"
   ]
  },
  {
   "cell_type": "markdown",
   "id": "a627b5e9",
   "metadata": {},
   "source": [
    "<h3>Homework 3</h3>\n",
    "<p></p>\n",
    "<b><span>Name: Sri Manvith Vaddeboyina</span></b><br>\n",
    "<b><span>USC ID: 1231409457</span></b><br>\n",
    "<b><span>Github username: srimanvithv</span></b>"
   ]
  },
  {
   "cell_type": "code",
   "execution_count": null,
   "id": "dd95a4f2",
   "metadata": {},
   "outputs": [],
   "source": []
  }
 ],
 "metadata": {
  "kernelspec": {
   "display_name": "Python 3 (ipykernel)",
   "language": "python",
   "name": "python3"
  },
  "language_info": {
   "codemirror_mode": {
    "name": "ipython",
    "version": 3
   },
   "file_extension": ".py",
   "mimetype": "text/x-python",
   "name": "python",
   "nbconvert_exporter": "python",
   "pygments_lexer": "ipython3",
   "version": "3.9.12"
  }
 },
 "nbformat": 4,
 "nbformat_minor": 5
}
