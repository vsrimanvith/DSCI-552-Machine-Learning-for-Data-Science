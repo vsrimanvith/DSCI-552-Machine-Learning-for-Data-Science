{
 "cells": [
  {
   "cell_type": "markdown",
   "metadata": {
    "id": "-aET06_VN99R",
    "outputId": "244b34d4-f15e-4f88-d3d4-6b90dfa0b0cc"
   },
   "source": [
    "<center><h1>DSCI 552: Machine Learning for Data Science</h1></center><br>"
   ]
  },
  {
   "cell_type": "markdown",
   "metadata": {
    "id": "kmWfFQWJW8DC",
    "outputId": "a1fff46b-58b7-4e31-d51d-dce14060a329"
   },
   "source": [
    "<h3>Final Project</h3>\n",
    "<p></p>\n",
    "<b><span>Name: Sri Manvith Vaddeboyina</span></b><br>\n",
    "<b><span>USC ID: 1231409457</span></b><br>\n",
    "<b><span>Github username: srimanvithv</span></b>"
   ]
  },
  {
   "cell_type": "markdown",
   "metadata": {
    "id": "suBRpwhgu4Eu"
   },
   "source": [
    "<b>1. Identification of Frost in Martian HiRISE Images</b>"
   ]
  },
  {
   "cell_type": "markdown",
   "metadata": {
    "id": "yv0u1HQzu4Eu"
   },
   "source": [
    "<b>(a) In this problem, we are trying to build a classifier that distinguishes images of\n",
    "Martian terrain with frost. You can find the dataset in\n",
    "https://dataverse.jpl.nasa.gov/dataset.xhtml?persistentId=doi:10.48577/jpl.QJ9PYA\n",
    ".\n",
    "This dataset was created to study Mars’ seasonal frost cycle and its role in the\n",
    "planet’s climate and surface evolution over the past 2 billion years. The data helps\n",
    "in identifying low-latitude frosted microclimates and their impact on climate.</b>"
   ]
  },
  {
   "cell_type": "code",
   "execution_count": 1,
   "metadata": {
    "id": "WHr206mxW-r8"
   },
   "outputs": [],
   "source": [
    "import os\n",
    "import json\n",
    "import shutil\n",
    "import logging\n",
    "import numpy as np\n",
    "import os.path as op\n",
    "from tqdm import tqdm\n",
    "from skimage import io\n",
    "from pathlib import Path\n",
    "import matplotlib.pyplot as plt\n",
    "from tensorflow.keras import layers\n",
    "from tensorflow.keras.models import Model\n",
    "from tensorflow.keras.optimizers import Adam\n",
    "from sklearn.metrics import classification_report\n",
    "from tensorflow.keras.callbacks import EarlyStopping\n",
    "from tensorflow.keras.preprocessing.image import ImageDataGenerator\n",
    "from sklearn.metrics import precision_score, recall_score, f1_score\n",
    "from tensorflow.keras import Sequential, layers, regularizers, optimizers\n",
    "from tensorflow.keras.applications import EfficientNetB0, ResNet50, VGG16\n",
    "from tensorflow.keras.layers import Dense, GlobalAveragePooling2D, Dropout, BatchNormalization"
   ]
  },
  {
   "cell_type": "markdown",
   "metadata": {
    "id": "E32NtBmPu4Ew"
   },
   "source": [
    "<b>(b) Data Exploration and Pre-processing</b>"
   ]
  },
  {
   "cell_type": "markdown",
   "metadata": {
    "id": "bnu-Vt0Cu4Ew"
   },
   "source": [
    "<b>i. Images (png files) and labels (json files) are organized in the data directory\n",
    "by “subframes.” Subframes are individual 5120x5120 pixel images which are\n",
    "crops of the original HiRISE images (often on the order of 50k x 10k pixels).\n",
    "Individual subframes were annotated by the contributors and then sliced into\n",
    "299x299 “tiles.” Each tile has an associated label for use in training ML\n",
    "algorithms.<br><br>\n",
    "There are 214 subframes and a total of 119920 tiles. Each tile has annotations\n",
    "which have been used to assign labels to the tiles ‘frost’ or ‘background.’\n",
    "Each JSON file contains all the annotation information collected from human\n",
    "annotators.<br><br>\n",
    "The following are relevant to the assignment:\n",
    "Image tiles are organized into folders of ‘background’ and ‘frost’ classes (bi-\n",
    "nary). For the purpose of the final project, individual tiles shall serve as the\n",
    "data points which need to be classified using binary classification.</b>"
   ]
  },
  {
   "cell_type": "code",
   "execution_count": 2,
   "metadata": {
    "id": "sLcEU_rQXBbj"
   },
   "outputs": [],
   "source": [
    "# Logging configuration\n",
    "logging.basicConfig(level=logging.INFO,\n",
    "                    datefmt='%H:%M:%S',\n",
    "                    format='%(asctime)s | %(levelname)-5s | %(module)-15s | %(message)s')\n",
    "\n",
    "IMAGE_SIZE = (299, 299)  # All images contained in this dataset are 299x299 (originally, to match Inception v3 input size)\n",
    "SEED = 17\n",
    "\n",
    "# Head directory containing all image subframes. Update with the relative path of your data directory\n",
    "data_head_dir = Path('/content/data')\n",
    "\n",
    "# Find all subframe directories\n",
    "subdirs = [Path(subdir.stem) for subdir in data_head_dir.iterdir() if subdir.is_dir()]\n",
    "src_image_ids = ['_'.join(a_path.name.split('_')[:3]) for a_path in subdirs]"
   ]
  },
  {
   "cell_type": "code",
   "execution_count": 3,
   "metadata": {
    "id": "SwZdOzPqXBgL"
   },
   "outputs": [],
   "source": [
    "# Load train/val/test subframe IDs\n",
    "def load_text_ids(file_path):\n",
    "    \"\"\"Simple helper to load all lines from a text file\"\"\"\n",
    "    with open(file_path, 'r') as f:\n",
    "        lines = [line.strip() for line in f.readlines()]\n",
    "    return lines\n",
    "\n",
    "# Load the subframe names for the three data subsets\n",
    "train_ids = load_text_ids('/content/drive/MyDrive/train_source_images.txt')\n",
    "validate_ids = load_text_ids('/content/drive/MyDrive/val_source_images.txt')\n",
    "test_ids = load_text_ids('/content/drive/MyDrive/test_source_images.txt')\n",
    "\n",
    "# Generate a list containing the dataset split for the matching subdirectory names\n",
    "subdir_splits = []\n",
    "for src_id in src_image_ids:\n",
    "    if src_id in train_ids:\n",
    "        subdir_splits.append('train')\n",
    "    elif src_id in validate_ids:\n",
    "        subdir_splits.append('validate')\n",
    "    elif(src_id in test_ids):\n",
    "        subdir_splits.append('test')\n",
    "    else:\n",
    "        logging.warning(f'{src_id}: Did not find designated split in train/validate/test list.')\n",
    "        subdir_splits.append(None)"
   ]
  },
  {
   "cell_type": "code",
   "execution_count": 4,
   "metadata": {
    "id": "faImPXHbXBhN"
   },
   "outputs": [],
   "source": [
    "import random\n",
    "import tensorflow as tf\n",
    "from PIL import Image\n",
    "\n",
    "def load_and_preprocess(img_loc, label):\n",
    "\n",
    "    def _inner_function(img_loc, label):\n",
    "\n",
    "        # Convert tensor to native type\n",
    "        img_loc_str = img_loc.numpy().decode('utf-8')\n",
    "        label_str = label.numpy().decode('utf-8')\n",
    "\n",
    "        img = Image.open(img_loc_str).convert('RGB')\n",
    "\n",
    "\n",
    "        return img, 1 if label_str=='frost' else 0\n",
    "\n",
    "    # Wrap the Python function\n",
    "    X, y = tf.py_function(_inner_function, [img_loc, label], [tf.float32, tf.int64])\n",
    "\n",
    "    return X, y\n",
    "\n",
    "def load_subdir_data(dir_path, image_size, seed=None):\n",
    "\n",
    "    \"\"\"Helper to create a TF dataset from each image subdirectory\"\"\"\n",
    "\n",
    "    # Grab only the classes that (1) we want to keep and (2) exist in this directory\n",
    "    tile_dir = dir_path / Path('tiles')\n",
    "    label_dir = dir_path /Path('labels')\n",
    "\n",
    "    loc_list = []\n",
    "\n",
    "    for folder in os.listdir(tile_dir):\n",
    "        if os.path.isdir(os.path.join(tile_dir, folder)):\n",
    "            for file in os.listdir(os.path.join(tile_dir, folder)):\n",
    "                if file.endswith(\".png\"):\n",
    "                    loc_list.append((os.path.join(os.path.join(tile_dir, folder), file), folder))\n",
    "\n",
    "    return loc_list\n",
    "\n",
    "# Loop over all subframes, loading each into a list\n",
    "tf_data_train, tf_data_test, tf_data_val = [], [], []\n",
    "tf_dataset_train, tf_dataset_test, tf_dataset_val = [], [], []\n",
    "\n",
    "# Update the batch and buffer size as per your model requirements\n",
    "buffer_size = 64\n",
    "batch_size = 32\n",
    "\n",
    "for subdir, split in zip(subdirs, subdir_splits):\n",
    "    full_path = data_head_dir / subdir\n",
    "    if split=='validate':\n",
    "        tf_data_val.extend(load_subdir_data(full_path, IMAGE_SIZE, SEED))\n",
    "    elif split=='train':\n",
    "        tf_data_train.extend(load_subdir_data(full_path, IMAGE_SIZE, SEED))\n",
    "    elif split=='test':\n",
    "        tf_data_test.extend(load_subdir_data(full_path, IMAGE_SIZE, SEED))\n",
    "\n",
    "random.shuffle(tf_data_train)\n",
    "img_list, label_list = zip(*tf_data_train)\n",
    "img_list_t = tf.convert_to_tensor(img_list)\n",
    "lb_list_t = tf.convert_to_tensor(label_list)\n",
    "\n",
    "tf_dataset_train = tf.data.Dataset.from_tensor_slices((img_list_t, lb_list_t))\n",
    "tf_dataset_train = tf_dataset_train.map(load_and_preprocess, num_parallel_calls=tf.data.experimental.AUTOTUNE)\n",
    "tf_dataset_train = tf_dataset_train.shuffle(buffer_size=buffer_size).batch(batch_size)\n",
    "\n",
    "random.shuffle(tf_data_val)\n",
    "img_list, label_list = zip(*tf_data_val)\n",
    "img_list_t = tf.convert_to_tensor(img_list)\n",
    "lb_list_t = tf.convert_to_tensor(label_list)\n",
    "\n",
    "tf_dataset_val = tf.data.Dataset.from_tensor_slices((img_list_t, lb_list_t))\n",
    "tf_dataset_val = tf_dataset_val.map(load_and_preprocess, num_parallel_calls=tf.data.experimental.AUTOTUNE)\n",
    "tf_dataset_val = tf_dataset_val.shuffle(buffer_size=buffer_size).batch(batch_size)\n",
    "\n",
    "random.shuffle(tf_data_test)\n",
    "img_list, label_list = zip(*tf_data_train)\n",
    "img_list_t = tf.convert_to_tensor(img_list)\n",
    "lb_list_t = tf.convert_to_tensor(label_list)\n",
    "\n",
    "tf_dataset_test = tf.data.Dataset.from_tensor_slices((img_list_t, lb_list_t))\n",
    "tf_dataset_test = tf_dataset_test.map(load_and_preprocess, num_parallel_calls=tf.data.experimental.AUTOTUNE)\n",
    "tf_dataset_test = tf_dataset_test.shuffle(buffer_size=buffer_size).batch(batch_size)"
   ]
  },
  {
   "cell_type": "markdown",
   "metadata": {},
   "source": [
    "# "
   ]
  },
  {
   "cell_type": "markdown",
   "metadata": {
    "id": "rzgrPM8Vu4Ey"
   },
   "source": [
    "<b>(c) Training CNN + MLP</b>"
   ]
  },
  {
   "cell_type": "markdown",
   "metadata": {
    "id": "qZERo94fu4Ey"
   },
   "source": [
    "<b>i.\n",
    "To perform empirical regularization, crop, randomly zoom, rotate, flip, con-\n",
    "trast, and translate images in your training set for image augmentation. You\n",
    "can use various tools to do this, including OpenCV.</b>"
   ]
  },
  {
   "cell_type": "code",
   "execution_count": 5,
   "metadata": {
    "id": "63wKEr9lXBjI"
   },
   "outputs": [],
   "source": [
    "def one_hot_encode(image, label):\n",
    "    label = tf.one_hot(label, depth=2)\n",
    "    return image, label\n",
    "\n",
    "def set_shapes(image, label):\n",
    "    image.set_shape((None, 299, 299, 3))\n",
    "    label.set_shape([None,2])\n",
    "    return image, label\n",
    "\n",
    "def apply_augmentation(image, label):\n",
    "    return data_augmentation(image, training=True), label"
   ]
  },
  {
   "cell_type": "code",
   "execution_count": 6,
   "metadata": {
    "id": "IF26ioqrXBmX"
   },
   "outputs": [],
   "source": [
    "datasets = [tf_dataset_train, tf_dataset_val, tf_dataset_test]\n",
    "\n",
    "for dataset in datasets:\n",
    "    dataset = dataset.map(one_hot_encode, num_parallel_calls=tf.data.experimental.AUTOTUNE)\n",
    "\n",
    "augmentation_layers = [\n",
    "    layers.experimental.preprocessing.RandomFlip(\"horizontal_and_vertical\"),\n",
    "    layers.experimental.preprocessing.RandomRotation(0.2),\n",
    "    layers.experimental.preprocessing.RandomZoom(0.2),\n",
    "    layers.experimental.preprocessing.RandomContrast(0.2),\n",
    "    layers.experimental.preprocessing.RandomTranslation(0.2, 0.2),\n",
    "]\n",
    "\n",
    "data_augmentation = tf.keras.Sequential(augmentation_layers)\n",
    "\n",
    "tf_dataset_train_augmented = tf_dataset_train.map(set_shapes, num_parallel_calls=tf.data.experimental.AUTOTUNE)\n",
    "tf_dataset_val_reshaped = tf_dataset_val.map(set_shapes, num_parallel_calls=tf.data.experimental.AUTOTUNE)\n",
    "tf_dataset_test_reshaped = tf_dataset_test.map(set_shapes, num_parallel_calls=tf.data.experimental.AUTOTUNE)\n",
    "tf_dataset_train_aug = tf_dataset_train_augmented.map(apply_augmentation, num_parallel_calls=tf.data.experimental.AUTOTUNE)"
   ]
  },
  {
   "cell_type": "markdown",
   "metadata": {
    "id": "j7bvAVzPu4Ez"
   },
   "source": [
    "<b>ii. Train a three-layer CNN followed by a dense layer on the data. Choose the\n",
    "size of the kernels and depth of the layers and the number of neurons in\n",
    "the dense layer (MLP) on your own. Use ReLU’s in all of the layers. Use\n",
    "the softmax function, batch normalization\n",
    "3\n",
    "and a dropout rate of 30%, L2\n",
    "regularization, as well as ADAM optimizer. Use cross entropy loss. Train\n",
    "for at least 20 epochs and perform early stopping using the validation set.\n",
    "Keep the network parameters that have the lowest validation error. Plot the\n",
    "training and validation errors vs. epochs.</b>"
   ]
  },
  {
   "cell_type": "code",
   "execution_count": 2,
   "metadata": {
    "colab": {
     "base_uri": "https://localhost:8080/"
    },
    "id": "Rqei-UTzu4Ez",
    "outputId": "f196e369-a911-454d-9f5d-a5f0ebd9b59e"
   },
   "outputs": [
    {
     "name": "stdout",
     "output_type": "stream",
     "text": [
      "Model: \"sequential\"\n",
      "_________________________________________________________________\n",
      " Layer (type)                Output Shape              Param #   \n",
      "=================================================================\n",
      " conv2d (Conv2D)             (None, 297, 297, 32)      896       \n",
      "                                                                 \n",
      " batch_normalization (Batch  (None, 297, 297, 32)      128       \n",
      " Normalization)                                                  \n",
      "                                                                 \n",
      " max_pooling2d (MaxPooling2  (None, 148, 148, 32)      0         \n",
      " D)                                                              \n",
      "                                                                 \n",
      " conv2d_1 (Conv2D)           (None, 146, 146, 64)      18496     \n",
      "                                                                 \n",
      " batch_normalization_1 (Bat  (None, 146, 146, 64)      256       \n",
      " chNormalization)                                                \n",
      "                                                                 \n",
      " max_pooling2d_1 (MaxPoolin  (None, 73, 73, 64)        0         \n",
      " g2D)                                                            \n",
      "                                                                 \n",
      " conv2d_2 (Conv2D)           (None, 71, 71, 128)       73856     \n",
      "                                                                 \n",
      " batch_normalization_2 (Bat  (None, 71, 71, 128)       512       \n",
      " chNormalization)                                                \n",
      "                                                                 \n",
      " max_pooling2d_2 (MaxPoolin  (None, 35, 35, 128)       0         \n",
      " g2D)                                                            \n",
      "                                                                 \n",
      " flatten (Flatten)           (None, 156800)            0         \n",
      "                                                                 \n",
      " dropout (Dropout)           (None, 156800)            0         \n",
      "                                                                 \n",
      " dense (Dense)               (None, 256)               40141056  \n",
      "                                                                 \n",
      " dense_1 (Dense)             (None, 2)                 514       \n",
      "                                                                 \n",
      "=================================================================\n",
      "Total params: 40235714 (153.49 MB)\n",
      "Trainable params: 40235266 (153.49 MB)\n",
      "Non-trainable params: 448 (1.75 KB)\n",
      "_________________________________________________________________\n"
     ]
    }
   ],
   "source": [
    "height = 299\n",
    "width = 299\n",
    "channels = 3\n",
    "\n",
    "model = Sequential([\n",
    "    layers.Conv2D(32, (3, 3), activation='relu', input_shape=(height, width, channels)),\n",
    "    layers.BatchNormalization(),\n",
    "    layers.MaxPooling2D((2, 2)),\n",
    "\n",
    "    layers.Conv2D(64, (3, 3), activation='relu'),\n",
    "    layers.BatchNormalization(),\n",
    "    layers.MaxPooling2D((2, 2)),\n",
    "\n",
    "    layers.Conv2D(128, (3, 3), activation='relu'),\n",
    "    layers.BatchNormalization(),\n",
    "    layers.MaxPooling2D((2, 2)),\n",
    "\n",
    "    layers.Flatten(),\n",
    "    layers.Dropout(0.3),\n",
    "    layers.Dense(256, activation='relu', kernel_regularizer=regularizers.l2(0.001)),\n",
    "    layers.Dense(2, activation='softmax')\n",
    "])\n",
    "\n",
    "model.compile(optimizer='adam',\n",
    "              loss='categorical_crossentropy',\n",
    "              metrics=['accuracy'])\n",
    "model.summary()"
   ]
  },
  {
   "cell_type": "code",
   "execution_count": null,
   "metadata": {
    "colab": {
     "base_uri": "https://localhost:8080/",
     "height": 1000
    },
    "id": "VwbQTAFjXB7_",
    "outputId": "073bcf0e-1960-49ae-b071-d17c4ae8a038"
   },
   "outputs": [
    {
     "name": "stdout",
     "output_type": "stream",
     "text": [
      "Epoch 1/25\n",
      "928/928 [==============================] - 1061s 1s/step - loss: 2.8305 - accuracy: 0.6803 - val_loss: 2.3187 - val_accuracy: 0.2725\n",
      "Epoch 2/25\n",
      "928/928 [==============================] - 1152s 1s/step - loss: 1.1483 - accuracy: 0.7438 - val_loss: 4.0832 - val_accuracy: 0.7002\n",
      "Epoch 3/25\n",
      "928/928 [==============================] - 1063s 1s/step - loss: 1.1867 - accuracy: 0.7669 - val_loss: 1.7092 - val_accuracy: 0.5838\n",
      "Epoch 4/25\n",
      "928/928 [==============================] - 978s 1s/step - loss: 1.2616 - accuracy: 0.7571 - val_loss: 0.9489 - val_accuracy: 0.8262\n",
      "Epoch 5/25\n",
      "928/928 [==============================] - 984s 1s/step - loss: 0.9590 - accuracy: 0.7963 - val_loss: 2.5116 - val_accuracy: 0.4554\n",
      "Epoch 6/25\n",
      "928/928 [==============================] - 971s 1s/step - loss: 0.8004 - accuracy: 0.8171 - val_loss: 1.2824 - val_accuracy: 0.5794\n",
      "Epoch 7/25\n",
      "928/928 [==============================] - 1015s 1s/step - loss: 0.8776 - accuracy: 0.7950 - val_loss: 19.6489 - val_accuracy: 0.3218\n",
      "Epoch 8/25\n",
      "928/928 [==============================] - 1163s 1s/step - loss: 0.6638 - accuracy: 0.8264 - val_loss: 1.4162 - val_accuracy: 0.7391\n",
      "Epoch 9/25\n",
      "928/928 [==============================] - 1116s 1s/step - loss: 0.5365 - accuracy: 0.8491 - val_loss: 3.7461 - val_accuracy: 0.3387\n"
     ]
    },
    {
     "data": {
      "image/png": "[encoded data removed]",
      "text/plain": [
       "<Figure size 640x480 with 1 Axes>"
      ]
     },
     "metadata": {},
     "output_type": "display_data"
    },
    {
     "data": {
      "image/png": "[encoded data removed]",
      "text/plain": [
       "<Figure size 640x480 with 1 Axes>"
      ]
     },
     "metadata": {},
     "output_type": "display_data"
    }
   ],
   "source": [
    "early_stopping = EarlyStopping(monitor='val_loss', patience=5, restore_best_weights=True)\n",
    "\n",
    "history = model.fit(tf_dataset_train_aug,\n",
    "                    epochs=25,\n",
    "                    validation_data=tf_dataset_val_reshaped,\n",
    "                    callbacks=[early_stopping])\n",
    "\n",
    "plt.plot(history.history['loss'], label='Training Loss')\n",
    "plt.plot(history.history['val_loss'], label='Validation Loss')\n",
    "plt.xlabel('Epochs')\n",
    "plt.ylabel('Loss')\n",
    "plt.legend()\n",
    "plt.show()\n",
    "\n",
    "plt.plot(history.history['accuracy'])\n",
    "plt.plot(history.history['val_accuracy'])\n",
    "plt.title('Model accuracy')\n",
    "plt.ylabel('Accuracy')\n",
    "plt.xlabel('Epoch')\n",
    "plt.legend(['Train', 'Validation'], loc='upper left')\n",
    "plt.show()"
   ]
  },
  {
   "cell_type": "code",
   "execution_count": null,
   "metadata": {
    "colab": {
     "base_uri": "https://localhost:8080/"
    },
    "id": "1I6wk2HtXB8_",
    "outputId": "0e37a633-3b73-455a-b5c3-a20bfff0ec03"
   },
   "outputs": [
    {
     "name": "stdout",
     "output_type": "stream",
     "text": [
      "353/353 [==============================] - 55s 154ms/step - loss: 0.9489 - accuracy: 0.8262\n"
     ]
    },
    {
     "data": {
      "text/plain": [
       "[0.948857843875885, 0.8261563181877136]"
      ]
     },
     "execution_count": 33,
     "metadata": {},
     "output_type": "execute_result"
    }
   ],
   "source": [
    "model.evaluate(tf_dataset_val_reshaped)"
   ]
  },
  {
   "cell_type": "code",
   "execution_count": null,
   "metadata": {
    "colab": {
     "base_uri": "https://localhost:8080/"
    },
    "id": "Did3VuaHXCA-",
    "outputId": "da7de0ed-0fe6-47d9-90c6-bfcb620bcab0"
   },
   "outputs": [
    {
     "name": "stdout",
     "output_type": "stream",
     "text": [
      "928/928 [==============================] - 131s 141ms/step - loss: 0.9592 - accuracy: 0.8091\n"
     ]
    },
    {
     "data": {
      "text/plain": [
       "[0.9591859579086304, 0.8090569376945496]"
      ]
     },
     "execution_count": 34,
     "metadata": {},
     "output_type": "execute_result"
    }
   ],
   "source": [
    "tf_dataset_test_reshaped = tf_dataset_test.map(set_shapes, num_parallel_calls=tf.data.experimental.AUTOTUNE)\n",
    "model.evaluate(tf_dataset_test_reshaped)"
   ]
  },
  {
   "cell_type": "markdown",
   "metadata": {},
   "source": [
    "<b>iii. Report Precision, Recall, and F1 score for your model.</b>"
   ]
  },
  {
   "cell_type": "code",
   "execution_count": 16,
   "metadata": {
    "id": "aHrOkOv6u4E0"
   },
   "outputs": [],
   "source": [
    "predictions_train = model.predict(tf_dataset_train_aug)\n",
    "predicted_classes_train = np.argmax(predictions_train, axis=1)\n",
    "true_labels_train = np.concatenate([y for x, y in tf_dataset_train_aug], axis=0)\n",
    "true_labels_integer_train = np.argmax(true_labels_train, axis=1)\n",
    "\n",
    "precision_train = precision_score(true_labels_integer_train, predicted_classes_train)\n",
    "recall_train = recall_score(true_labels_integer_train, predicted_classes_train)\n",
    "f1_train = f1_score(true_labels_integer_train, predicted_classes_train)"
   ]
  },
  {
   "cell_type": "code",
   "execution_count": 17,
   "metadata": {
    "id": "6M7TlhWzu4E0"
   },
   "outputs": [],
   "source": [
    "predictions_val = model.predict(tf_dataset_val_reshaped)\n",
    "predicted_classes_val = np.argmax(predictions_val, axis=1)\n",
    "true_labels_val = np.concatenate([y for x, y in tf_dataset_val_reshaped], axis=0)\n",
    "true_labels_integer_val = np.argmax(true_labels_val, axis=1)\n",
    "\n",
    "precision_val = precision_score(true_labels_integer_val, predicted_classes_val)\n",
    "recall_val = recall_score(true_labels_integer_val, predicted_classes_val)\n",
    "f1_val = f1_score(true_labels_integer_val, predicted_classes_val)"
   ]
  },
  {
   "cell_type": "code",
   "execution_count": 18,
   "metadata": {
    "id": "y2sxf1-4u4E0"
   },
   "outputs": [],
   "source": [
    "predictions_test = model.predict(tf_dataset_test_reshaped)\n",
    "predicted_classes_test = np.argmax(predictions_test, axis=1)\n",
    "true_labels_test = np.concatenate([y for x, y in tf_dataset_test_reshaped], axis=0)\n",
    "true_labels_integer_test = np.argmax(true_labels_test, axis=1)\n",
    "\n",
    "precision_test = precision_score(true_labels_integer_test, predicted_classes_test)\n",
    "recall_test = recall_score(true_labels_integer_test, predicted_classes_test)\n",
    "f1_test = f1_score(true_labels_integer_test, predicted_classes_test)"
   ]
  },
  {
   "cell_type": "code",
   "execution_count": 19,
   "metadata": {},
   "outputs": [
    {
     "name": "stdout",
     "output_type": "stream",
     "text": [
      "\u001b[1mCNN-MLP Results:\n",
      "----------------\n"
     ]
    },
    {
     "data": {
      "text/html": [
       "<div>\n",
       "<style scoped>\n",
       "    .dataframe tbody tr th:only-of-type {\n",
       "        vertical-align: middle;\n",
       "    }\n",
       "\n",
       "    .dataframe tbody tr th {\n",
       "        vertical-align: top;\n",
       "    }\n",
       "\n",
       "    .dataframe thead th {\n",
       "        text-align: right;\n",
       "    }\n",
       "</style>\n",
       "<table border=\"1\" class=\"dataframe\">\n",
       "  <thead>\n",
       "    <tr style=\"text-align: right;\">\n",
       "      <th></th>\n",
       "      <th>Metric</th>\n",
       "      <th>Train</th>\n",
       "      <th>Test</th>\n",
       "      <th>Validation</th>\n",
       "    </tr>\n",
       "  </thead>\n",
       "  <tbody>\n",
       "    <tr>\n",
       "      <th>0</th>\n",
       "      <td>Precision</td>\n",
       "      <td>0.583781</td>\n",
       "      <td>0.809733</td>\n",
       "      <td>0.328855</td>\n",
       "    </tr>\n",
       "    <tr>\n",
       "      <th>1</th>\n",
       "      <td>Recall</td>\n",
       "      <td>0.430005</td>\n",
       "      <td>0.812853</td>\n",
       "      <td>0.492015</td>\n",
       "    </tr>\n",
       "    <tr>\n",
       "      <th>2</th>\n",
       "      <td>F1 Score</td>\n",
       "      <td>0.495230</td>\n",
       "      <td>0.817853</td>\n",
       "      <td>0.394220</td>\n",
       "    </tr>\n",
       "  </tbody>\n",
       "</table>\n",
       "</div>"
      ],
      "text/plain": [
       "      Metric     Train      Test  Validation\n",
       "0  Precision  0.583781  0.809733    0.328855\n",
       "1     Recall  0.430005  0.812853    0.492015\n",
       "2   F1 Score  0.495230  0.817853    0.394220"
      ]
     },
     "execution_count": 19,
     "metadata": {},
     "output_type": "execute_result"
    }
   ],
   "source": [
    "train_results = {\"Precision\": precision_train, \"Recall\": recall_train, \"F1 Score\": f1_train}\n",
    "test_results = {\"Precision\": precision_test, \"Recall\": recall_test, \"F1 Score\": f1_train}\n",
    "val_results = {\"Precision\": precision_val, \"Recall\": recall_val, \"F1 Score\": f1_val}\n",
    "\n",
    "train_df = pd.DataFrame(list(train_results.items()), columns=['Metric', 'Train'])\n",
    "test_df = pd.DataFrame(list(test_results.items()), columns=['Metric', 'Test'])\n",
    "val_df = pd.DataFrame(list(val_results.items()), columns=['Metric', 'Validation'])\n",
    "\n",
    "result_df = pd.merge(train_df, test_df, on='Metric')\n",
    "result_df = pd.merge(result_df, val_df, on='Metric')\n",
    "\n",
    "print(\"\\033[1mCNN-MLP Results:\")\n",
    "print(\"----------------\")\n",
    "result_df"
   ]
  },
  {
   "cell_type": "markdown",
   "metadata": {
    "id": "u8uaeVjeu4E0"
   },
   "source": [
    "# "
   ]
  },
  {
   "cell_type": "markdown",
   "metadata": {
    "id": "Rijyu6Z4u4E0"
   },
   "source": [
    "<b>(d) Transfer Learning</b>"
   ]
  },
  {
   "cell_type": "markdown",
   "metadata": {
    "id": "BAEZjzd0u4E1"
   },
   "source": [
    "<b>i. When dealing with classification of relatively small image datasets, deep net-\n",
    "works may not perform very well because of not having enough data to train\n",
    "them. In such cases, one usually uses\n",
    "transfer learning\n",
    ", which uses deep\n",
    "learning models that are trained on very large datasets such as\n",
    "ImageNet\n",
    "as feature extractors. The idea is that such deep networks have learned to\n",
    "extract meaningful features from an image using their layers, and those fea-\n",
    "tures can be used in learning other tasks. In order to do that, usually the\n",
    "last layer or the last few layers of the pre-trained network are removed, and\n",
    "the response of the layer before the removed layers to the images in the new\n",
    "dataset is used as a feature vector to train one more multiple replacement\n",
    "layers. In this project, you will use pre-trained models (\n",
    "EfficientNetB0\n",
    ",\n",
    "ResNet50\n",
    ", and\n",
    "VGG16\n",
    "). For these pre-trained networks, you will only train\n",
    "the last fully connected layer, and will\n",
    "freeze\n",
    "all layers before them (i.e. we\n",
    "do not change their parameters during training) and use the outputs of the\n",
    "penultimate layer in the original pre-trained model as the features extracted\n",
    "from each image.</b>"
   ]
  },
  {
   "cell_type": "markdown",
   "metadata": {
    "id": "DLjYFw8Ku4E1"
   },
   "source": [
    "<b>ii. To perform empirical regularization, crop, randomly zoom, rotate, flip, con-\n",
    "trast, and translate images in your training set for image augmentation. You\n",
    "can use various tools to do this, including OpenCV</b>"
   ]
  },
  {
   "cell_type": "markdown",
   "metadata": {
    "id": "HDVKJPrSu4E1"
   },
   "source": [
    "<b>iii. Use ReLU activation functions in the last layer and a softmax layer, along\n",
    "with batch normalization\n",
    "5\n",
    "and a dropout rate of 30% as well as ADAM\n",
    "optimizer. Use cross entropy loss. You can try any batch size, but a batch\n",
    "size of 8 seems reasonable.<br></b>"
   ]
  },
  {
   "cell_type": "markdown",
   "metadata": {
    "id": "KXOTYDJ4u4E1"
   },
   "source": [
    "<b>iv.\n",
    "Train using the features calculated by networks (\n",
    "EfficientNetB0\n",
    ",\n",
    "ResNet50\n",
    ",\n",
    "and\n",
    "VGG16\n",
    ") for at least 10 epochs (preferably 20 epochs) and perform early\n",
    "stopping using the validation set. Keep the network parameters that have the\n",
    "lowest validation error. Plot the training and validation errors vs. epochs.</b>"
   ]
  },
  {
   "cell_type": "markdown",
   "metadata": {
    "id": "JLznc52Vu4E1"
   },
   "source": [
    "<p></p>"
   ]
  },
  {
   "cell_type": "markdown",
   "metadata": {
    "id": "d3kH7uU_u4E1"
   },
   "source": [
    "<b>1. EfficientNetB0</b>"
   ]
  },
  {
   "cell_type": "code",
   "execution_count": null,
   "metadata": {
    "colab": {
     "base_uri": "https://localhost:8080/"
    },
    "id": "GNiU8qtoXfcX",
    "outputId": "da7c9fca-12a5-410d-8991-2b928b8b2d5e"
   },
   "outputs": [
    {
     "name": "stdout",
     "output_type": "stream",
     "text": [
      "Downloading data from https://storage.googleapis.com/keras-applications/efficientnetb0_notop.h5\n",
      "16705208/16705208 [==============================] - 1s 0us/step\n"
     ]
    }
   ],
   "source": [
    "base_model_efficientnet = EfficientNetB0(weights='imagenet', include_top=False)\n",
    "\n",
    "for layer in base_model_efficientnet.layers[:-4]:\n",
    "    layer.trainable = False\n",
    "\n",
    "def build_model(base_model):\n",
    "    x = base_model.output\n",
    "    x = GlobalAveragePooling2D()(x)\n",
    "    x = Dense(64, activation='relu')(x)\n",
    "    x = BatchNormalization()(x)\n",
    "    x = Dropout(0.3)(x)\n",
    "    predictions = Dense(2, activation='softmax')(x)\n",
    "    model = Model(inputs=base_model.input, outputs=predictions)\n",
    "    return model\n",
    "\n",
    "model_efficientnet = build_model(base_model_efficientnet)\n",
    "\n",
    "eff_adam = Adam(learning_rate=0.001)\n",
    "model_efficientnet.compile(optimizer=eff_adam, loss='categorical_crossentropy', metrics=['accuracy'])"
   ]
  },
  {
   "cell_type": "code",
   "execution_count": null,
   "metadata": {
    "id": "Upiub8WAXfda"
   },
   "outputs": [],
   "source": [
    "tf_dataset_val_reshaped = tf_dataset_val.map(set_shapes, num_parallel_calls=tf.data.experimental.AUTOTUNE)\n",
    "tf_dataset_test_reshaped = tf_dataset_test.map(set_shapes, num_parallel_calls=tf.data.experimental.AUTOTUNE)"
   ]
  },
  {
   "cell_type": "code",
   "execution_count": null,
   "metadata": {
    "colab": {
     "base_uri": "https://localhost:8080/",
     "height": 1000
    },
    "id": "MFReEv6DXfiu",
    "outputId": "87194c00-84e1-4760-dd6a-692d9658da8a"
   },
   "outputs": [
    {
     "name": "stdout",
     "output_type": "stream",
     "text": [
      "Epoch 1/12\n",
      "928/928 [==============================] - 1045s 1s/step - loss: 0.2323 - accuracy: 0.9086 - val_loss: 0.4641 - val_accuracy: 0.8282\n",
      "Epoch 2/12\n",
      "928/928 [==============================] - 1029s 1s/step - loss: 0.1501 - accuracy: 0.9417 - val_loss: 0.2778 - val_accuracy: 0.8913\n",
      "Epoch 3/12\n",
      "928/928 [==============================] - 1011s 1s/step - loss: 0.1280 - accuracy: 0.9510 - val_loss: 0.5856 - val_accuracy: 0.8429\n",
      "Epoch 4/12\n",
      "928/928 [==============================] - 1118s 1s/step - loss: 0.1203 - accuracy: 0.9542 - val_loss: 0.8945 - val_accuracy: 0.8324\n",
      "Epoch 5/12\n",
      "928/928 [==============================] - 1168s 1s/step - loss: 0.1075 - accuracy: 0.9591 - val_loss: 1.0716 - val_accuracy: 0.7860\n",
      "Epoch 6/12\n",
      "928/928 [==============================] - 1158s 1s/step - loss: 0.1045 - accuracy: 0.9612 - val_loss: 0.6618 - val_accuracy: 0.8168\n",
      "Epoch 7/12\n",
      "928/928 [==============================] - 1127s 1s/step - loss: 0.1015 - accuracy: 0.9616 - val_loss: 1.0053 - val_accuracy: 0.7647\n"
     ]
    },
    {
     "data": {
      "image/png": "[encoded data removed]",
      "text/plain": [
       "<Figure size 640x480 with 1 Axes>"
      ]
     },
     "metadata": {},
     "output_type": "display_data"
    },
    {
     "data": {
      "image/png": "[encoded data removed]",
      "text/plain": [
       "<Figure size 640x480 with 1 Axes>"
      ]
     },
     "metadata": {},
     "output_type": "display_data"
    }
   ],
   "source": [
    "epochs = 12\n",
    "batch_size = 8\n",
    "\n",
    "early_stopping = EarlyStopping(patience=5, restore_best_weights=True)\n",
    "\n",
    "history = model_efficientnet.fit(tf_dataset_train_aug, epochs=epochs, batch_size=batch_size, validation_data=tf_dataset_val_reshaped, callbacks=[early_stopping])\n",
    "\n",
    "plt.plot(history.history['accuracy'])\n",
    "plt.plot(history.history['val_accuracy'])\n",
    "plt.title('Model accuracy')\n",
    "plt.ylabel('Accuracy')\n",
    "plt.xlabel('Epoch')\n",
    "plt.legend(['Train', 'Validation'], loc='upper left')\n",
    "plt.show()\n",
    "\n",
    "plt.plot(history.history['loss'])\n",
    "plt.plot(history.history['val_loss'])\n",
    "plt.title('Model loss')\n",
    "plt.ylabel('Loss')\n",
    "plt.xlabel('Epoch')\n",
    "plt.legend(['Train', 'Validation'], loc='upper left')\n",
    "plt.show()"
   ]
  },
  {
   "cell_type": "code",
   "execution_count": null,
   "metadata": {
    "colab": {
     "base_uri": "https://localhost:8080/"
    },
    "id": "i76vSj4oXfke",
    "outputId": "b4d8d22a-c714-4795-9754-ea0fda24ce92"
   },
   "outputs": [
    {
     "name": "stdout",
     "output_type": "stream",
     "text": [
      "928/928 [==============================] - 189s 202ms/step - loss: 0.1165 - accuracy: 0.9564\n"
     ]
    },
    {
     "data": {
      "text/plain": [
       "[0.11650298535823822, 0.9564001560211182]"
      ]
     },
     "execution_count": 30,
     "metadata": {},
     "output_type": "execute_result"
    }
   ],
   "source": [
    "model_efficientnet.evaluate(tf_dataset_test_reshaped)"
   ]
  },
  {
   "cell_type": "markdown",
   "metadata": {
    "id": "6fDQsHo5u4E2"
   },
   "source": [
    "<b>v. Report Precision, Recall, and F1 score for your model.</b>"
   ]
  },
  {
   "cell_type": "code",
   "execution_count": null,
   "metadata": {
    "id": "4MR7UKLou4E2"
   },
   "outputs": [],
   "source": [
    "predictions_train = model_efficientnet.predict(tf_dataset_train_aug)\n",
    "predicted_classes_train = np.argmax(predictions_train, axis=1)\n",
    "true_labels_train = np.concatenate([y for x, y in tf_dataset_train_aug], axis=0)\n",
    "true_labels_integer_train = np.argmax(true_labels_train, axis=1)\n",
    "\n",
    "precision_train = precision_score(true_labels_integer_train, predicted_classes_train)\n",
    "recall_train = recall_score(true_labels_integer_train, predicted_classes_train)\n",
    "f1_train = f1_score(true_labels_integer_train, predicted_classes_train)"
   ]
  },
  {
   "cell_type": "code",
   "execution_count": null,
   "metadata": {
    "id": "suifq-MGu4E2"
   },
   "outputs": [],
   "source": [
    "predictions_val = model_efficientnet.predict(tf_dataset_val_reshaped)\n",
    "predicted_classes_val = np.argmax(predictions_val, axis=1)\n",
    "true_labels_val = np.concatenate([y for x, y in tf_dataset_val_reshaped], axis=0)\n",
    "true_labels_integer_val = np.argmax(true_labels_val, axis=1)\n",
    "\n",
    "precision_val = precision_score(true_labels_integer_val, predicted_classes_val)\n",
    "recall_val = recall_score(true_labels_integer_val, predicted_classes_val)\n",
    "f1_val = f1_score(true_labels_integer_val, predicted_classes_val)"
   ]
  },
  {
   "cell_type": "code",
   "execution_count": null,
   "metadata": {
    "id": "S2uwPR5xu4E7"
   },
   "outputs": [],
   "source": [
    "predictions_test = model_efficientnet.predict(tf_dataset_test_reshaped)\n",
    "predicted_classes_test = np.argmax(predictions_test, axis=1)\n",
    "true_labels_test = np.concatenate([y for x, y in tf_dataset_test_reshaped], axis=0)\n",
    "true_labels_integer_test = np.argmax(true_labels_test, axis=1)\n",
    "\n",
    "precision_test = precision_score(true_labels_integer_test, predicted_classes_test)\n",
    "recall_test = recall_score(true_labels_integer_test, predicted_classes_test)\n",
    "f1_test = f1_score(true_labels_integer_test, predicted_classes_test)"
   ]
  },
  {
   "cell_type": "code",
   "execution_count": 10,
   "metadata": {
    "id": "JJObfDIKu4E7"
   },
   "outputs": [
    {
     "name": "stdout",
     "output_type": "stream",
     "text": [
      "\u001b[1mEfficientNetB0 Results:\n",
      "----------------\n"
     ]
    },
    {
     "data": {
      "text/html": [
       "<div>\n",
       "<style scoped>\n",
       "    .dataframe tbody tr th:only-of-type {\n",
       "        vertical-align: middle;\n",
       "    }\n",
       "\n",
       "    .dataframe tbody tr th {\n",
       "        vertical-align: top;\n",
       "    }\n",
       "\n",
       "    .dataframe thead th {\n",
       "        text-align: right;\n",
       "    }\n",
       "</style>\n",
       "<table border=\"1\" class=\"dataframe\">\n",
       "  <thead>\n",
       "    <tr style=\"text-align: right;\">\n",
       "      <th></th>\n",
       "      <th>Metric</th>\n",
       "      <th>Train</th>\n",
       "      <th>Test</th>\n",
       "      <th>Validation</th>\n",
       "    </tr>\n",
       "  </thead>\n",
       "  <tbody>\n",
       "    <tr>\n",
       "      <th>0</th>\n",
       "      <td>Precision</td>\n",
       "      <td>0.879342</td>\n",
       "      <td>0.596629</td>\n",
       "      <td>0.803217</td>\n",
       "    </tr>\n",
       "    <tr>\n",
       "      <th>1</th>\n",
       "      <td>Recall</td>\n",
       "      <td>0.863249</td>\n",
       "      <td>0.608805</td>\n",
       "      <td>0.780498</td>\n",
       "    </tr>\n",
       "    <tr>\n",
       "      <th>2</th>\n",
       "      <td>F1 Score</td>\n",
       "      <td>0.887502</td>\n",
       "      <td>0.602656</td>\n",
       "      <td>0.822749</td>\n",
       "    </tr>\n",
       "  </tbody>\n",
       "</table>\n",
       "</div>"
      ],
      "text/plain": [
       "      Metric     Train      Test  Validation\n",
       "0  Precision  0.879342  0.596629    0.803217\n",
       "1     Recall  0.863249  0.608805    0.780498\n",
       "2   F1 Score  0.887502  0.602656    0.822749"
      ]
     },
     "execution_count": 10,
     "metadata": {},
     "output_type": "execute_result"
    }
   ],
   "source": [
    "train_results = {\"Precision\": precision_train, \"Recall\": recall_train, \"F1 Score\": f1_train}\n",
    "test_results = {\"Precision\": precision_test, \"Recall\": recall_test, \"F1 Score\": f1_train}\n",
    "val_results = {\"Precision\": precision_val, \"Recall\": recall_val, \"F1 Score\": f1_val}\n",
    "\n",
    "train_df = pd.DataFrame(list(train_results.items()), columns=['Metric', 'Train'])\n",
    "test_df = pd.DataFrame(list(test_results.items()), columns=['Metric', 'Test'])\n",
    "val_df = pd.DataFrame(list(val_results.items()), columns=['Metric', 'Validation'])\n",
    "\n",
    "result_df = pd.merge(train_df, test_df, on='Metric')\n",
    "result_df = pd.merge(result_df, val_df, on='Metric')\n",
    "\n",
    "print(\"\\033[1mEfficientNetB0 Results:\")\n",
    "print(\"----------------\")\n",
    "result_df"
   ]
  },
  {
   "cell_type": "markdown",
   "metadata": {
    "id": "Rj5nWHedu4E7"
   },
   "source": [
    "# "
   ]
  },
  {
   "cell_type": "markdown",
   "metadata": {
    "id": "XLyRiCRqu4E7"
   },
   "source": [
    "<b>2. ResNet50</b>"
   ]
  },
  {
   "cell_type": "code",
   "execution_count": null,
   "metadata": {
    "colab": {
     "base_uri": "https://localhost:8080/"
    },
    "id": "Sz1_-PC6XfvC",
    "outputId": "369f368d-dd45-406a-be38-dd5b934434eb"
   },
   "outputs": [
    {
     "name": "stdout",
     "output_type": "stream",
     "text": [
      "Downloading data from https://storage.googleapis.com/tensorflow/keras-applications/resnet/resnet50_weights_tf_dim_ordering_tf_kernels_notop.h5\n",
      "94765736/94765736 [==============================] - 3s 0us/step\n"
     ]
    }
   ],
   "source": [
    "base_model_resnet = ResNet50(weights='imagenet', include_top=False)\n",
    "\n",
    "for layer in base_model_resnet.layers[:-4]:\n",
    "    layer.trainable = False\n",
    "\n",
    "model_resnet = build_model(base_model_resnet)\n",
    "\n",
    "res_adam = Adam(learning_rate=0.001)\n",
    "\n",
    "model_resnet.compile(optimizer=res_adam, loss='categorical_crossentropy', metrics=['accuracy'])"
   ]
  },
  {
   "cell_type": "code",
   "execution_count": null,
   "metadata": {
    "colab": {
     "base_uri": "https://localhost:8080/",
     "height": 1000
    },
    "id": "1uWfdn0SXfyx",
    "outputId": "8bb7f2fa-2abd-49dd-faa1-0e815e493bf4"
   },
   "outputs": [
    {
     "name": "stdout",
     "output_type": "stream",
     "text": [
      "Epoch 1/12\n",
      "928/928 [==============================] - 1015s 1s/step - loss: 0.2414 - accuracy: 0.9015 - val_loss: 0.4773 - val_accuracy: 0.8144\n",
      "Epoch 2/12\n",
      "928/928 [==============================] - 1053s 1s/step - loss: 0.1627 - accuracy: 0.9348 - val_loss: 1.0493 - val_accuracy: 0.6657\n",
      "Epoch 3/12\n",
      "928/928 [==============================] - 1166s 1s/step - loss: 0.1407 - accuracy: 0.9461 - val_loss: 0.5095 - val_accuracy: 0.8093\n",
      "Epoch 4/12\n",
      "928/928 [==============================] - 1212s 1s/step - loss: 0.1241 - accuracy: 0.9513 - val_loss: 1.2915 - val_accuracy: 0.6673\n",
      "Epoch 5/12\n",
      "928/928 [==============================] - 1242s 1s/step - loss: 0.1165 - accuracy: 0.9556 - val_loss: 0.5753 - val_accuracy: 0.8204\n",
      "Epoch 6/12\n",
      "928/928 [==============================] - 1234s 1s/step - loss: 0.1056 - accuracy: 0.9594 - val_loss: 0.6383 - val_accuracy: 0.7825\n"
     ]
    },
    {
     "data": {
      "image/png": "[encoded data removed]",
      "text/plain": [
       "<Figure size 640x480 with 1 Axes>"
      ]
     },
     "metadata": {},
     "output_type": "display_data"
    },
    {
     "data": {
      "image/png": "[encoded data removed]",
      "text/plain": [
       "<Figure size 640x480 with 1 Axes>"
      ]
     },
     "metadata": {},
     "output_type": "display_data"
    }
   ],
   "source": [
    "epochs = 12\n",
    "batch_size = 8\n",
    "\n",
    "early_stopping = EarlyStopping(patience=5, restore_best_weights=True)\n",
    "\n",
    "history=model_resnet.fit(tf_dataset_train_aug, epochs=epochs, batch_size=batch_size, validation_data=tf_dataset_val_reshaped, callbacks=[early_stopping])\n",
    "\n",
    "plt.plot(history.history['accuracy'])\n",
    "plt.plot(history.history['val_accuracy'])\n",
    "plt.title('Model accuracy')\n",
    "plt.ylabel('Accuracy')\n",
    "plt.xlabel('Epoch')\n",
    "plt.legend(['Train', 'Validation'], loc='upper left')\n",
    "plt.show()\n",
    "\n",
    "plt.plot(history.history['loss'])\n",
    "plt.plot(history.history['val_loss'])\n",
    "plt.title('Model loss')\n",
    "plt.ylabel('Loss')\n",
    "plt.xlabel('Epoch')\n",
    "plt.legend(['Train', 'Validation'], loc='upper left')\n",
    "plt.show()"
   ]
  },
  {
   "cell_type": "code",
   "execution_count": null,
   "metadata": {
    "colab": {
     "base_uri": "https://localhost:8080/"
    },
    "id": "R7fbKRPoXCHa",
    "outputId": "1e40a563-9ae6-4b6b-9029-be127715031d"
   },
   "outputs": [
    {
     "name": "stdout",
     "output_type": "stream",
     "text": [
      "928/928 [==============================] - 234s 251ms/step - loss: 0.1317 - accuracy: 0.9483\n"
     ]
    },
    {
     "data": {
      "text/plain": [
       "[0.1316925287246704, 0.9483135938644409]"
      ]
     },
     "execution_count": 36,
     "metadata": {},
     "output_type": "execute_result"
    }
   ],
   "source": [
    "model_resnet.evaluate(tf_dataset_test_reshaped)"
   ]
  },
  {
   "cell_type": "markdown",
   "metadata": {
    "id": "B31QgWMku4E7"
   },
   "source": [
    "<b>v. Report Precision, Recall, and F1 score for your model.</b>"
   ]
  },
  {
   "cell_type": "code",
   "execution_count": null,
   "metadata": {
    "id": "IxmaEWEau4E7"
   },
   "outputs": [],
   "source": [
    "predictions_train = model_resnet.predict(tf_dataset_train_aug)\n",
    "predicted_classes_train = np.argmax(predictions_train, axis=1)\n",
    "true_labels_train = np.concatenate([y for x, y in tf_dataset_train_aug], axis=0)\n",
    "true_labels_integer_train = np.argmax(true_labels_train, axis=1)\n",
    "\n",
    "precision_train = precision_score(true_labels_integer_train, predicted_classes_train)\n",
    "recall_train = recall_score(true_labels_integer_train, predicted_classes_train)\n",
    "f1_train = f1_score(true_labels_integer_train, predicted_classes_train)"
   ]
  },
  {
   "cell_type": "code",
   "execution_count": null,
   "metadata": {
    "id": "1UKXLhHUu4E8"
   },
   "outputs": [],
   "source": [
    "predictions_val = model_resnet.predict(tf_dataset_val_reshaped)\n",
    "predicted_classes_val = np.argmax(predictions_val, axis=1)\n",
    "true_labels_val = np.concatenate([y for x, y in tf_dataset_val_reshaped], axis=0)\n",
    "true_labels_integer_val = np.argmax(true_labels_val, axis=1)\n",
    "\n",
    "precision_val = precision_score(true_labels_integer_val, predicted_classes_val)\n",
    "recall_val = recall_score(true_labels_integer_val, predicted_classes_val)\n",
    "f1_val = f1_score(true_labels_integer_val, predicted_classes_val)"
   ]
  },
  {
   "cell_type": "code",
   "execution_count": null,
   "metadata": {
    "id": "PdlTP9rQu4E8"
   },
   "outputs": [],
   "source": [
    "predictions_test = model_resnet.predict(tf_dataset_test_reshaped)\n",
    "predicted_classes_test = np.argmax(predictions_test, axis=1)\n",
    "true_labels_test = np.concatenate([y for x, y in tf_dataset_test_reshaped], axis=0)\n",
    "true_labels_integer_test = np.argmax(true_labels_test, axis=1)\n",
    "\n",
    "precision_test = precision_score(true_labels_integer_test, predicted_classes_test)\n",
    "recall_test = recall_score(true_labels_integer_test, predicted_classes_test)\n",
    "f1_test = f1_score(true_labels_integer_test, predicted_classes_test)"
   ]
  },
  {
   "cell_type": "code",
   "execution_count": 11,
   "metadata": {
    "id": "NlPAuYTUu4E8"
   },
   "outputs": [
    {
     "name": "stdout",
     "output_type": "stream",
     "text": [
      "\u001b[1mResNet50 Results:\n",
      "----------------\n"
     ]
    },
    {
     "data": {
      "text/html": [
       "<div>\n",
       "<style scoped>\n",
       "    .dataframe tbody tr th:only-of-type {\n",
       "        vertical-align: middle;\n",
       "    }\n",
       "\n",
       "    .dataframe tbody tr th {\n",
       "        vertical-align: top;\n",
       "    }\n",
       "\n",
       "    .dataframe thead th {\n",
       "        text-align: right;\n",
       "    }\n",
       "</style>\n",
       "<table border=\"1\" class=\"dataframe\">\n",
       "  <thead>\n",
       "    <tr style=\"text-align: right;\">\n",
       "      <th></th>\n",
       "      <th>Metric</th>\n",
       "      <th>Train</th>\n",
       "      <th>Test</th>\n",
       "      <th>Validation</th>\n",
       "    </tr>\n",
       "  </thead>\n",
       "  <tbody>\n",
       "    <tr>\n",
       "      <th>0</th>\n",
       "      <td>Precision</td>\n",
       "      <td>0.863249</td>\n",
       "      <td>0.589056</td>\n",
       "      <td>0.768413</td>\n",
       "    </tr>\n",
       "    <tr>\n",
       "      <th>1</th>\n",
       "      <td>Recall</td>\n",
       "      <td>0.812745</td>\n",
       "      <td>0.583180</td>\n",
       "      <td>0.721935</td>\n",
       "    </tr>\n",
       "    <tr>\n",
       "      <th>2</th>\n",
       "      <td>F1 Score</td>\n",
       "      <td>0.889127</td>\n",
       "      <td>0.586104</td>\n",
       "      <td>0.795623</td>\n",
       "    </tr>\n",
       "  </tbody>\n",
       "</table>\n",
       "</div>"
      ],
      "text/plain": [
       "      Metric     Train      Test  Validation\n",
       "0  Precision  0.863249  0.589056    0.768413\n",
       "1     Recall  0.812745  0.583180    0.721935\n",
       "2   F1 Score  0.889127  0.586104    0.795623"
      ]
     },
     "execution_count": 11,
     "metadata": {},
     "output_type": "execute_result"
    }
   ],
   "source": [
    "train_results = {\"Precision\": precision_train, \"Recall\": recall_train, \"F1 Score\": f1_train}\n",
    "test_results = {\"Precision\": precision_test, \"Recall\": recall_test, \"F1 Score\": f1_train}\n",
    "val_results = {\"Precision\": precision_val, \"Recall\": recall_val, \"F1 Score\": f1_val}\n",
    "\n",
    "train_df = pd.DataFrame(list(train_results.items()), columns=['Metric', 'Train'])\n",
    "test_df = pd.DataFrame(list(test_results.items()), columns=['Metric', 'Test'])\n",
    "val_df = pd.DataFrame(list(val_results.items()), columns=['Metric', 'Validation'])\n",
    "\n",
    "result_df = pd.merge(train_df, test_df, on='Metric')\n",
    "result_df = pd.merge(result_df, val_df, on='Metric')\n",
    "\n",
    "print(\"\\033[1mResNet50 Results:\")\n",
    "print(\"----------------\")\n",
    "result_df"
   ]
  },
  {
   "cell_type": "markdown",
   "metadata": {
    "id": "9Az6o6P1u4E8"
   },
   "source": [
    "# "
   ]
  },
  {
   "cell_type": "markdown",
   "metadata": {
    "id": "Bs4tLvDiu4E8"
   },
   "source": [
    "<b>3. VGG16</b>"
   ]
  },
  {
   "cell_type": "code",
   "execution_count": null,
   "metadata": {
    "colab": {
     "base_uri": "https://localhost:8080/"
    },
    "id": "pC5ILhOAYm8A",
    "outputId": "8b90d524-b7c5-46ba-9eee-c4c7e40e12d0"
   },
   "outputs": [
    {
     "name": "stdout",
     "output_type": "stream",
     "text": [
      "Downloading data from https://storage.googleapis.com/tensorflow/keras-applications/vgg16/vgg16_weights_tf_dim_ordering_tf_kernels_notop.h5\n",
      "58889256/58889256 [==============================] - 2s 0us/step\n"
     ]
    }
   ],
   "source": [
    "base_model_vgg = VGG16(weights='imagenet', include_top=False)\n",
    "for layer in base_model_vgg.layers[:-4]:\n",
    "    layer.trainable = False\n",
    "\n",
    "model_vgg = build_model(base_model_vgg)\n",
    "vgg_adam = Adam(learning_rate=0.001)\n",
    "model_vgg.compile(optimizer=vgg_adam, loss='categorical_crossentropy', metrics=['accuracy'])"
   ]
  },
  {
   "cell_type": "code",
   "execution_count": null,
   "metadata": {
    "colab": {
     "base_uri": "https://localhost:8080/",
     "height": 1000
    },
    "id": "c9nBMC80Ym-s",
    "outputId": "594c06be-9403-4216-934f-e03675e0b3f3"
   },
   "outputs": [
    {
     "name": "stdout",
     "output_type": "stream",
     "text": [
      "Epoch 1/12\n",
      "928/928 [==============================] - 1019s 1s/step - loss: 0.2516 - accuracy: 0.8966 - val_loss: 1.5560 - val_accuracy: 0.6684\n",
      "Epoch 2/12\n",
      "928/928 [==============================] - 982s 1s/step - loss: 0.1581 - accuracy: 0.9385 - val_loss: 0.4645 - val_accuracy: 0.8563\n",
      "Epoch 3/12\n",
      "928/928 [==============================] - 1022s 1s/step - loss: 0.1306 - accuracy: 0.9497 - val_loss: 1.0780 - val_accuracy: 0.7947\n",
      "Epoch 4/12\n",
      "928/928 [==============================] - 1010s 1s/step - loss: 0.1162 - accuracy: 0.9563 - val_loss: 1.1599 - val_accuracy: 0.7945\n",
      "Epoch 5/12\n",
      "928/928 [==============================] - 1004s 1s/step - loss: 0.1046 - accuracy: 0.9600 - val_loss: 0.6929 - val_accuracy: 0.8581\n",
      "Epoch 6/12\n",
      "928/928 [==============================] - 960s 1s/step - loss: 0.0967 - accuracy: 0.9648 - val_loss: 1.8859 - val_accuracy: 0.7348\n",
      "Epoch 7/12\n",
      "928/928 [==============================] - 970s 1s/step - loss: 0.0922 - accuracy: 0.9677 - val_loss: 1.9713 - val_accuracy: 0.7612\n"
     ]
    },
    {
     "data": {
      "image/png": "[encoded data removed]",
      "text/plain": [
       "<Figure size 640x480 with 1 Axes>"
      ]
     },
     "metadata": {},
     "output_type": "display_data"
    },
    {
     "data": {
      "image/png": "[encoded data removed]",
      "text/plain": [
       "<Figure size 640x480 with 1 Axes>"
      ]
     },
     "metadata": {},
     "output_type": "display_data"
    }
   ],
   "source": [
    "epochs = 12\n",
    "batch_size = 8\n",
    "\n",
    "early_stopping = EarlyStopping(patience=5, restore_best_weights=True)\n",
    "\n",
    "history = model_vgg.fit(tf_dataset_train_aug, epochs=epochs, batch_size=batch_size, validation_data=tf_dataset_val_reshaped, callbacks=[early_stopping])\n",
    "\n",
    "# Plot training & validation accuracy values\n",
    "plt.plot(history.history['accuracy'])\n",
    "plt.plot(history.history['val_accuracy'])\n",
    "plt.title('Model accuracy')\n",
    "plt.ylabel('Accuracy')\n",
    "plt.xlabel('Epoch')\n",
    "plt.legend(['Train', 'Validation'], loc='upper left')\n",
    "plt.show()\n",
    "\n",
    "# Plot training & validation loss values\n",
    "plt.plot(history.history['loss'])\n",
    "plt.plot(history.history['val_loss'])\n",
    "plt.title('Model loss')\n",
    "plt.ylabel('Loss')\n",
    "plt.xlabel('Epoch')\n",
    "plt.legend(['Train', 'Validation'], loc='upper left')\n",
    "plt.show()"
   ]
  },
  {
   "cell_type": "code",
   "execution_count": null,
   "metadata": {
    "colab": {
     "base_uri": "https://localhost:8080/"
    },
    "id": "GKFX_6hYYnA8",
    "outputId": "9dc2b2a0-c774-44ac-f3cf-8a2b3c2e2041"
   },
   "outputs": [
    {
     "name": "stdout",
     "output_type": "stream",
     "text": [
      "928/928 [==============================] - 197s 212ms/step - loss: 0.1157 - accuracy: 0.9573\n"
     ]
    },
    {
     "data": {
      "text/plain": [
       "[0.11566375941038132, 0.957309901714325]"
      ]
     },
     "execution_count": 19,
     "metadata": {},
     "output_type": "execute_result"
    }
   ],
   "source": [
    "model_vgg.evaluate(tf_dataset_test_reshaped)"
   ]
  },
  {
   "cell_type": "markdown",
   "metadata": {
    "id": "OQrNXFCWu4E8"
   },
   "source": [
    "<b>v. Report Precision, Recall, and F1 score for your model.</b>"
   ]
  },
  {
   "cell_type": "code",
   "execution_count": 12,
   "metadata": {
    "colab": {
     "base_uri": "https://localhost:8080/"
    },
    "id": "Gx4IEPF_ZBSk",
    "outputId": "bb8bffea-ba45-4b91-ae96-283e21e63e06"
   },
   "outputs": [],
   "source": [
    "predictions_train = model_vgg.predict(tf_dataset_train_aug)\n",
    "predicted_classes_train = np.argmax(predictions_train, axis=1)\n",
    "true_labels_train = np.concatenate([y for x, y in tf_dataset_train_aug], axis=0)\n",
    "true_labels_integer_train = np.argmax(true_labels_train, axis=1)\n",
    "\n",
    "precision_train = precision_score(true_labels_integer_train, predicted_classes_train)\n",
    "recall_train = recall_score(true_labels_integer_train, predicted_classes_train)\n",
    "f1_train = f1_score(true_labels_integer_train, predicted_classes_train)"
   ]
  },
  {
   "cell_type": "code",
   "execution_count": 13,
   "metadata": {
    "colab": {
     "base_uri": "https://localhost:8080/"
    },
    "id": "PpY4h3zXOS8o",
    "outputId": "410b55a9-52b8-41e0-861d-97e265a4f942"
   },
   "outputs": [],
   "source": [
    "predictions_val = model_vgg.predict(tf_dataset_val_reshaped)\n",
    "predicted_classes_val = np.argmax(predictions_val, axis=1)\n",
    "true_labels_val = np.concatenate([y for x, y in tf_dataset_val_reshaped], axis=0)\n",
    "true_labels_integer_val = np.argmax(true_labels_val, axis=1)\n",
    "\n",
    "precision_val = precision_score(true_labels_integer_val, predicted_classes_val)\n",
    "recall_val = recall_score(true_labels_integer_val, predicted_classes_val)\n",
    "f1_val = f1_score(true_labels_integer_val, predicted_classes_val)"
   ]
  },
  {
   "cell_type": "code",
   "execution_count": 14,
   "metadata": {
    "id": "xaRCKDwVu4E9"
   },
   "outputs": [],
   "source": [
    "predictions_test = model_vgg.predict(tf_dataset_test_reshaped)\n",
    "predicted_classes_test = np.argmax(predictions_test, axis=1)\n",
    "true_labels_test = np.concatenate([y for x, y in tf_dataset_test_reshaped], axis=0)\n",
    "true_labels_integer_test = np.argmax(true_labels_test, axis=1)\n",
    "\n",
    "precision_test = precision_score(true_labels_integer_test, predicted_classes_test)\n",
    "recall_test = recall_score(true_labels_integer_test, predicted_classes_test)\n",
    "f1_test = f1_score(true_labels_integer_test, predicted_classes_test)"
   ]
  },
  {
   "cell_type": "code",
   "execution_count": 15,
   "metadata": {
    "id": "3XPwNhmpu4E9",
    "outputId": "15bf6626-ed02-4d30-850a-fdc1b2da1c71"
   },
   "outputs": [
    {
     "name": "stdout",
     "output_type": "stream",
     "text": [
      "\u001b[1mVGG16 Results:\n",
      "----------------\n"
     ]
    },
    {
     "data": {
      "text/html": [
       "<div>\n",
       "<style scoped>\n",
       "    .dataframe tbody tr th:only-of-type {\n",
       "        vertical-align: middle;\n",
       "    }\n",
       "\n",
       "    .dataframe tbody tr th {\n",
       "        vertical-align: top;\n",
       "    }\n",
       "\n",
       "    .dataframe thead th {\n",
       "        text-align: right;\n",
       "    }\n",
       "</style>\n",
       "<table border=\"1\" class=\"dataframe\">\n",
       "  <thead>\n",
       "    <tr style=\"text-align: right;\">\n",
       "      <th></th>\n",
       "      <th>Metric</th>\n",
       "      <th>Train</th>\n",
       "      <th>Test</th>\n",
       "      <th>Validation</th>\n",
       "    </tr>\n",
       "  </thead>\n",
       "  <tbody>\n",
       "    <tr>\n",
       "      <th>0</th>\n",
       "      <td>Precision</td>\n",
       "      <td>0.869213</td>\n",
       "      <td>0.592306</td>\n",
       "      <td>0.751295</td>\n",
       "    </tr>\n",
       "    <tr>\n",
       "      <th>1</th>\n",
       "      <td>Recall</td>\n",
       "      <td>0.827459</td>\n",
       "      <td>0.624054</td>\n",
       "      <td>0.782154</td>\n",
       "    </tr>\n",
       "    <tr>\n",
       "      <th>2</th>\n",
       "      <td>F1 Score</td>\n",
       "      <td>0.898345</td>\n",
       "      <td>0.607766</td>\n",
       "      <td>0.799813</td>\n",
       "    </tr>\n",
       "  </tbody>\n",
       "</table>\n",
       "</div>"
      ],
      "text/plain": [
       "      Metric     Train      Test  Validation\n",
       "0  Precision  0.869213  0.592306    0.751295\n",
       "1     Recall  0.827459  0.624054    0.782154\n",
       "2   F1 Score  0.898345  0.607766    0.799813"
      ]
     },
     "execution_count": 15,
     "metadata": {},
     "output_type": "execute_result"
    }
   ],
   "source": [
    "train_results = {\"Precision\": precision_train, \"Recall\": recall_train, \"F1 Score\": f1_train}\n",
    "test_results = {\"Precision\": precision_test, \"Recall\": recall_test, \"F1 Score\": f1_train}\n",
    "val_results = {\"Precision\": precision_val, \"Recall\": recall_val, \"F1 Score\": f1_val}\n",
    "\n",
    "train_df = pd.DataFrame(list(train_results.items()), columns=['Metric', 'Train'])\n",
    "test_df = pd.DataFrame(list(test_results.items()), columns=['Metric', 'Test'])\n",
    "val_df = pd.DataFrame(list(val_results.items()), columns=['Metric', 'Validation'])\n",
    "\n",
    "result_df = pd.merge(train_df, test_df, on='Metric')\n",
    "result_df = pd.merge(result_df, val_df, on='Metric')\n",
    "\n",
    "print(\"\\033[1mVGG16 Results:\")\n",
    "print(\"----------------\")\n",
    "result_df"
   ]
  },
  {
   "cell_type": "markdown",
   "metadata": {},
   "source": [
    "<b>vi. Compare the results of transfer learning with those of CNN + MLP model\n",
    "and explain them</b>"
   ]
  },
  {
   "cell_type": "markdown",
   "metadata": {},
   "source": [
    "- **Accuracy:**\n",
    "The CNN + MLP model achieved an accuracy rate of 81%. In contrast, the transfer learning models (EfficientNetB0, ResNet50, VGG16) consistently demonstrated accuracy levels that were either comparable or slightly superior. This underscores the effectiveness of leveraging pre-trained features to enhance overall model performance.\n",
    "\n",
    "- **Precision and Recall :**\n",
    "Across both classes (0 and 1), the transfer learning models exhibited a balanced trade-off between precision and recall. In contrast, the CNN + MLP model displayed higher precision for class 0 but a slightly lower recall, indicating a stronger ability to identify instances of class 0 correctly but potentially missing some actual instances.\n",
    "\n",
    "- **F1 Scores:**\n",
    "The F1 scores, representing the harmonic mean of precision and recall, remained consistent among the transfer learning models, reflecting a well-rounded balance between precision and recall. In contrast, the CNN + MLP model's F1-score, while competitive, suggests a subtle disparity between precision and recall.\n",
    "\n",
    "- **Interpreting the Results:**\n",
    "Transfer learning models leverage pre-trained features that have captured rich representations from a diverse dataset such as ImageNet. This foundational knowledge facilitates rapid adaptation to new tasks. In contrast, the CNN + MLP model, initialized from scratch, may require more data and training epochs to attain comparable performance, as it needs to learn features exclusively from the provided dataset.\n",
    "\n",
    "- **Generalization and Efficiency:**\n",
    "Transfer learning models excel in generalization and efficiency, demanding fewer data samples to achieve comparable performance. This advantage stems from their ability to initialize with pre-trained weights that encapsulate generic features from diverse images. In contrast, the CNN + MLP model, without pre-trained features, may necessitate more extensive data and extended training periods to reach similar performance levels, especially when dealing with smaller datasets.\n",
    "\n",
    "- **Conclusion:**\n",
    "In summary, transfer learning models offer significant advantages by effectively harnessing pre-trained features, resulting in improved generalization and overall performance compared to CNN + MLP models trained from scratch. This distinction becomes particularly evident when working with datasets of limited size."
   ]
  },
  {
   "cell_type": "markdown",
   "metadata": {
    "id": "R2CbJQv6u4E9"
   },
   "source": [
    "<b><center>Thank You</center></b>"
   ]
  }
 ],
 "metadata": {
  "accelerator": "GPU",
  "colab": {
   "gpuType": "T4",
   "provenance": []
  },
  "kernelspec": {
   "display_name": "Python 3 (ipykernel)",
   "language": "python",
   "name": "python3"
  },
  "language_info": {
   "codemirror_mode": {
    "name": "ipython",
    "version": 3
   },
   "file_extension": ".py",
   "mimetype": "text/x-python",
   "name": "python",
   "nbconvert_exporter": "python",
   "pygments_lexer": "ipython3",
   "version": "3.9.12"
  }
 },
 "nbformat": 4,
 "nbformat_minor": 1
}
