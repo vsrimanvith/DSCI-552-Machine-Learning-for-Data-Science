{
 "cells": [
  {
   "cell_type": "markdown",
   "id": "7964b8cf",
   "metadata": {},
   "source": [
    "<center><h1>DSCI 552: Machine Learning for Data Science</h1></center><br>\n",
    "<center>Combined Cycle Power Plant Data Set</center>"
   ]
  },
  {
   "cell_type": "markdown",
   "id": "e273993a",
   "metadata": {},
   "source": [
    "<h3>Homework 2</h3>\n",
    "<p></p>\n",
    "<b><span>Name: Sri Manvith Vaddeboyina</span></b><br>\n",
    "<b><span>USC ID: 1231409457</span></b><br>\n",
    "<b><span>Github username: srimanvithv</span></b>"
   ]
  },
  {
   "cell_type": "markdown",
   "id": "83a67a7f",
   "metadata": {},
   "source": [
    "The dataset contains data points collected from a Combined Cycle Power Plant over\n",
    "6 years (2006-2011), when the power plant was set to work with full load. Features\n",
    "consist of hourly average ambient variables Temperature (T), Ambient Pressure (AP),\n",
    "Relative Humidity (RH) and Exhaust Vacuum (V) to predict the net hourly electrical\n",
    "energy output (EP) of the plant."
   ]
  },
  {
   "cell_type": "markdown",
   "id": "841a1a9b",
   "metadata": {},
   "source": [
    "<b>(a) Download the Combined Cycle Power Plant data from: https://archive.ics.uci.edu/ml/datasets/Combined+Cycle+Power+Plant </b>"
   ]
  },
  {
   "cell_type": "markdown",
   "id": "0e5f8c48",
   "metadata": {},
   "source": [
    "<b>Import necessary packages/libraries</b>"
   ]
  },
  {
   "cell_type": "code",
   "execution_count": 1,
   "id": "10785130",
   "metadata": {},
   "outputs": [],
   "source": [
    "import random\n",
    "import sklearn\n",
    "import warnings\n",
    "import numpy as np\n",
    "import pandas as pd\n",
    "import seaborn as sns\n",
    "import statsmodels.api as sm\n",
    "import matplotlib.pyplot as plt\n",
    "from matplotlib.pyplot import figure\n",
    "import statsmodels.formula.api as smf\n",
    "from sklearn.preprocessing import MinMaxScaler\n",
    "from sklearn.metrics import mean_squared_error\n",
    "from sklearn.model_selection import train_test_split\n",
    "from sklearn.preprocessing import PolynomialFeatures\n",
    "from sklearn.neighbors import KNeighborsRegressor as KNNRegression\n",
    "from sklearn.metrics.pairwise import euclidean_distances\n",
    "\n",
    "%matplotlib inline\n",
    "pd.set_option('display.max_colwidth', None)\n",
    "warnings.filterwarnings('ignore')"
   ]
  },
  {
   "cell_type": "code",
   "execution_count": 2,
   "id": "1f8ee648",
   "metadata": {},
   "outputs": [
    {
     "data": {
      "text/html": [
       "<div>\n",
       "<style scoped>\n",
       "    .dataframe tbody tr th:only-of-type {\n",
       "        vertical-align: middle;\n",
       "    }\n",
       "\n",
       "    .dataframe tbody tr th {\n",
       "        vertical-align: top;\n",
       "    }\n",
       "\n",
       "    .dataframe thead th {\n",
       "        text-align: right;\n",
       "    }\n",
       "</style>\n",
       "<table border=\"1\" class=\"dataframe\">\n",
       "  <thead>\n",
       "    <tr style=\"text-align: right;\">\n",
       "      <th></th>\n",
       "      <th>AT</th>\n",
       "      <th>V</th>\n",
       "      <th>AP</th>\n",
       "      <th>RH</th>\n",
       "      <th>PE</th>\n",
       "    </tr>\n",
       "  </thead>\n",
       "  <tbody>\n",
       "    <tr>\n",
       "      <th>0</th>\n",
       "      <td>14.96</td>\n",
       "      <td>41.76</td>\n",
       "      <td>1024.07</td>\n",
       "      <td>73.17</td>\n",
       "      <td>463.26</td>\n",
       "    </tr>\n",
       "    <tr>\n",
       "      <th>1</th>\n",
       "      <td>25.18</td>\n",
       "      <td>62.96</td>\n",
       "      <td>1020.04</td>\n",
       "      <td>59.08</td>\n",
       "      <td>444.37</td>\n",
       "    </tr>\n",
       "    <tr>\n",
       "      <th>2</th>\n",
       "      <td>5.11</td>\n",
       "      <td>39.40</td>\n",
       "      <td>1012.16</td>\n",
       "      <td>92.14</td>\n",
       "      <td>488.56</td>\n",
       "    </tr>\n",
       "    <tr>\n",
       "      <th>3</th>\n",
       "      <td>20.86</td>\n",
       "      <td>57.32</td>\n",
       "      <td>1010.24</td>\n",
       "      <td>76.64</td>\n",
       "      <td>446.48</td>\n",
       "    </tr>\n",
       "    <tr>\n",
       "      <th>4</th>\n",
       "      <td>10.82</td>\n",
       "      <td>37.50</td>\n",
       "      <td>1009.23</td>\n",
       "      <td>96.62</td>\n",
       "      <td>473.90</td>\n",
       "    </tr>\n",
       "    <tr>\n",
       "      <th>...</th>\n",
       "      <td>...</td>\n",
       "      <td>...</td>\n",
       "      <td>...</td>\n",
       "      <td>...</td>\n",
       "      <td>...</td>\n",
       "    </tr>\n",
       "    <tr>\n",
       "      <th>9563</th>\n",
       "      <td>16.65</td>\n",
       "      <td>49.69</td>\n",
       "      <td>1014.01</td>\n",
       "      <td>91.00</td>\n",
       "      <td>460.03</td>\n",
       "    </tr>\n",
       "    <tr>\n",
       "      <th>9564</th>\n",
       "      <td>13.19</td>\n",
       "      <td>39.18</td>\n",
       "      <td>1023.67</td>\n",
       "      <td>66.78</td>\n",
       "      <td>469.62</td>\n",
       "    </tr>\n",
       "    <tr>\n",
       "      <th>9565</th>\n",
       "      <td>31.32</td>\n",
       "      <td>74.33</td>\n",
       "      <td>1012.92</td>\n",
       "      <td>36.48</td>\n",
       "      <td>429.57</td>\n",
       "    </tr>\n",
       "    <tr>\n",
       "      <th>9566</th>\n",
       "      <td>24.48</td>\n",
       "      <td>69.45</td>\n",
       "      <td>1013.86</td>\n",
       "      <td>62.39</td>\n",
       "      <td>435.74</td>\n",
       "    </tr>\n",
       "    <tr>\n",
       "      <th>9567</th>\n",
       "      <td>21.60</td>\n",
       "      <td>62.52</td>\n",
       "      <td>1017.23</td>\n",
       "      <td>67.87</td>\n",
       "      <td>453.28</td>\n",
       "    </tr>\n",
       "  </tbody>\n",
       "</table>\n",
       "<p>9568 rows × 5 columns</p>\n",
       "</div>"
      ],
      "text/plain": [
       "         AT      V       AP     RH      PE\n",
       "0     14.96  41.76  1024.07  73.17  463.26\n",
       "1     25.18  62.96  1020.04  59.08  444.37\n",
       "2      5.11  39.40  1012.16  92.14  488.56\n",
       "3     20.86  57.32  1010.24  76.64  446.48\n",
       "4     10.82  37.50  1009.23  96.62  473.90\n",
       "...     ...    ...      ...    ...     ...\n",
       "9563  16.65  49.69  1014.01  91.00  460.03\n",
       "9564  13.19  39.18  1023.67  66.78  469.62\n",
       "9565  31.32  74.33  1012.92  36.48  429.57\n",
       "9566  24.48  69.45  1013.86  62.39  435.74\n",
       "9567  21.60  62.52  1017.23  67.87  453.28\n",
       "\n",
       "[9568 rows x 5 columns]"
      ]
     },
     "execution_count": 2,
     "metadata": {},
     "output_type": "execute_result"
    }
   ],
   "source": [
    "ccp_df = pd.read_excel('../data/CCPP/Folds5x2_pp.xlsx', index_col=None)\n",
    "ccp_df"
   ]
  },
  {
   "cell_type": "markdown",
   "id": "1070ecca",
   "metadata": {},
   "source": [
    "# "
   ]
  },
  {
   "cell_type": "markdown",
   "id": "a32866a7",
   "metadata": {},
   "source": [
    "<b>(b) Exploring the data:</b>"
   ]
  },
  {
   "cell_type": "markdown",
   "id": "bc03abe9",
   "metadata": {},
   "source": [
    "<b>i. How many rows are in this data set? How many columns? What do the rows and columns represent?</b>"
   ]
  },
  {
   "cell_type": "code",
   "execution_count": 3,
   "id": "59f0e330",
   "metadata": {},
   "outputs": [
    {
     "name": "stdout",
     "output_type": "stream",
     "text": [
      "\u001b[1mNumber of rows:  9568\n",
      "\n",
      "\u001b[1mNumber of rows:  5\n",
      "\n",
      "\u001b[1mEach row represents a sample point (observation) for each of the features (AT, V, AP, RH, PE)\n",
      "\n",
      "\u001b[1mEach column represents a specific feature. The dataset comprises four hourly average ambient variables: Temperature (AT), Ambient Pressure (AP), Relative Humidity (RH), and Exhaust Vacuum (V). The column labeled PE corresponds to the net hourly electrical energy output of the plant.\n"
     ]
    }
   ],
   "source": [
    "print(\"\\033[1mNumber of rows: \", ccp_df.shape[0])\n",
    "print()\n",
    "print(\"\\033[1mNumber of rows: \", ccp_df.shape[1])\n",
    "print()\n",
    "print(\"\\033[1mEach row represents a sample point (observation) for each of the features (AT, V, AP, RH, PE)\")\n",
    "print()\n",
    "print('\\033[1mEach column represents a specific feature. The dataset comprises four hourly average ambient variables: Temperature (AT), Ambient Pressure (AP), Relative Humidity (RH), and Exhaust Vacuum (V). The column labeled PE corresponds to the net hourly electrical energy output of the plant.')"
   ]
  },
  {
   "cell_type": "markdown",
   "id": "2c07cf85",
   "metadata": {},
   "source": [
    "<p></p>"
   ]
  },
  {
   "cell_type": "markdown",
   "id": "a675ed8a",
   "metadata": {},
   "source": [
    "<b>ii. Make pairwise scatterplots of all the variables in the data set including the\n",
    "predictors (independent variables) with the dependent variable. Describe\n",
    "your findings.</b>"
   ]
  },
  {
   "cell_type": "code",
   "execution_count": 4,
   "id": "84722f39",
   "metadata": {},
   "outputs": [
    {
     "name": "stdout",
     "output_type": "stream",
     "text": [
      "\u001b[1mScatter plot of all independent variables with dependent variable\n"
     ]
    }
   ],
   "source": [
    "sns.pairplot(ccp_df)\n",
    "print(\"\\033[1mScatter plot of all independent variables with dependent variable\")"
   ]
  },
  {
   "cell_type": "markdown",
   "id": "89bce5c1",
   "metadata": {},
   "source": [
    "<b>Key Findings:</b><br>\n",
    "\n",
    "- <b>Temperature (AT) has a positive correlation with Exhaust Vacuum (V) and a negative correlation with net hourly electrical energy output (PE). V also negatively correlates with PE.</b>\n",
    "\n",
    "- <b>Strong linear relationships exist between PE and AT, while PE and Relative Humidity (RH) lack a direct linear relationship. PE and V have a moderate linear relationship with noticeable outliers.</b>\n",
    "\n",
    "- <b>Scatter plots for PE vs. AT, PE vs. V, and V vs. AT show low variance, indicating data concentration, while scatter plots for PE vs. Ambient Pressure (AP), PE vs. RH, etc., have higher variance, suggesting potential outliers.</b>\n",
    "\n",
    "- <b>Visual trends reveal that as AT increases, PE tends to decrease, and there appears to be an inverse relationship between V and PE, implying that higher V is associated with lower PE.</b>"
   ]
  },
  {
   "cell_type": "markdown",
   "id": "6665252a",
   "metadata": {},
   "source": [
    "<b>iii. What are the mean, the median, range, first and third quartiles, and interquartile ranges of each of the variables in the dataset? Summarize them\n",
    "in a table.</b>"
   ]
  },
  {
   "cell_type": "code",
   "execution_count": 5,
   "id": "d038b049",
   "metadata": {},
   "outputs": [
    {
     "name": "stdout",
     "output_type": "stream",
     "text": [
      "\u001b[1mSummary of variables:\n"
     ]
    },
    {
     "data": {
      "text/html": [
       "<div>\n",
       "<style scoped>\n",
       "    .dataframe tbody tr th:only-of-type {\n",
       "        vertical-align: middle;\n",
       "    }\n",
       "\n",
       "    .dataframe tbody tr th {\n",
       "        vertical-align: top;\n",
       "    }\n",
       "\n",
       "    .dataframe thead th {\n",
       "        text-align: right;\n",
       "    }\n",
       "</style>\n",
       "<table border=\"1\" class=\"dataframe\">\n",
       "  <thead>\n",
       "    <tr style=\"text-align: right;\">\n",
       "      <th></th>\n",
       "      <th>Mean</th>\n",
       "      <th>Median</th>\n",
       "      <th>Range</th>\n",
       "      <th>1st Quartile</th>\n",
       "      <th>3rd Quartile</th>\n",
       "      <th>Interquartile Range (IQR)</th>\n",
       "    </tr>\n",
       "  </thead>\n",
       "  <tbody>\n",
       "    <tr>\n",
       "      <th>AT</th>\n",
       "      <td>19.65</td>\n",
       "      <td>20.34</td>\n",
       "      <td>35.30</td>\n",
       "      <td>13.51</td>\n",
       "      <td>25.72</td>\n",
       "      <td>12.21</td>\n",
       "    </tr>\n",
       "    <tr>\n",
       "      <th>V</th>\n",
       "      <td>54.31</td>\n",
       "      <td>52.08</td>\n",
       "      <td>56.20</td>\n",
       "      <td>41.74</td>\n",
       "      <td>66.54</td>\n",
       "      <td>24.80</td>\n",
       "    </tr>\n",
       "    <tr>\n",
       "      <th>AP</th>\n",
       "      <td>1013.26</td>\n",
       "      <td>1012.94</td>\n",
       "      <td>40.41</td>\n",
       "      <td>1009.10</td>\n",
       "      <td>1017.26</td>\n",
       "      <td>8.16</td>\n",
       "    </tr>\n",
       "    <tr>\n",
       "      <th>RH</th>\n",
       "      <td>73.31</td>\n",
       "      <td>74.97</td>\n",
       "      <td>74.60</td>\n",
       "      <td>63.33</td>\n",
       "      <td>84.83</td>\n",
       "      <td>21.50</td>\n",
       "    </tr>\n",
       "    <tr>\n",
       "      <th>PE</th>\n",
       "      <td>454.37</td>\n",
       "      <td>451.55</td>\n",
       "      <td>75.50</td>\n",
       "      <td>439.75</td>\n",
       "      <td>468.43</td>\n",
       "      <td>28.68</td>\n",
       "    </tr>\n",
       "  </tbody>\n",
       "</table>\n",
       "</div>"
      ],
      "text/plain": [
       "       Mean   Median  Range  1st Quartile  3rd Quartile  \\\n",
       "AT    19.65    20.34  35.30         13.51         25.72   \n",
       "V     54.31    52.08  56.20         41.74         66.54   \n",
       "AP  1013.26  1012.94  40.41       1009.10       1017.26   \n",
       "RH    73.31    74.97  74.60         63.33         84.83   \n",
       "PE   454.37   451.55  75.50        439.75        468.43   \n",
       "\n",
       "    Interquartile Range (IQR)  \n",
       "AT                      12.21  \n",
       "V                       24.80  \n",
       "AP                       8.16  \n",
       "RH                      21.50  \n",
       "PE                      28.68  "
      ]
     },
     "execution_count": 5,
     "metadata": {},
     "output_type": "execute_result"
    }
   ],
   "source": [
    "def calculate_summary_stats(df):\n",
    "    summary = {\n",
    "        \"Mean\": np.round(np.mean(df, axis=0), 2),\n",
    "        \"Median\": np.round(np.median(df, axis=0), 2),\n",
    "        \"Range\": np.round(np.max(df, axis=0) - np.min(df, axis=0), 2),\n",
    "        \"1st Quartile\": np.round(np.quantile(df, 0.25, axis=0), 2),\n",
    "        \"3rd Quartile\": np.round(np.quantile(df, 0.75, axis=0), 2)\n",
    "    }\n",
    "    summary[\"Interquartile Range (IQR)\"] = summary[\"3rd Quartile\"] - summary[\"1st Quartile\"]\n",
    "    return pd.DataFrame(summary)\n",
    "\n",
    "summary_df = calculate_summary_stats(ccp_df)\n",
    "print(\"\\033[1mSummary of variables:\")\n",
    "summary_df"
   ]
  },
  {
   "cell_type": "markdown",
   "id": "105de792",
   "metadata": {},
   "source": [
    "# "
   ]
  },
  {
   "cell_type": "markdown",
   "id": "88a7992b",
   "metadata": {},
   "source": [
    "<b>(c) For each predictor, fit a simple linear regression model to predict the response.\n",
    "Describe your results. In which of the models is there a statistically significant\n",
    "association between the predictor and the response? Create some plots to back\n",
    "up your assertions. Are there any outliers that you would like to remove from\n",
    "your data for each of these regression tasks?</b>"
   ]
  },
  {
   "cell_type": "code",
   "execution_count": 6,
   "id": "e9bfe1c8",
   "metadata": {},
   "outputs": [],
   "source": [
    "X_train_AT, X_train_V, X_train_AP, X_train_RH, y_train = [ccp_df[col].to_numpy() for col in ['AT', 'V', 'AP', 'RH', 'PE']]"
   ]
  },
  {
   "cell_type": "code",
   "execution_count": 7,
   "id": "9355d24c",
   "metadata": {},
   "outputs": [],
   "source": [
    "def PlotGraph(X, X_const, y, feature_name, outliers_index,model):\n",
    "    fig, ax = plt.subplots(figsize=(10, 6))\n",
    "    ax.scatter(X, y, color = \"g\")\n",
    "    ax.scatter(X[outliers_index], y[outliers_index], marker = \"o\", label = \"Outliers\", color = \"b\")\n",
    "    ax.plot(X, model.predict(X_const), linewidth = 4, label = \"Regression Line\", color = \"r\")\n",
    "    ax.set_title(\"Simple Linear Regression for the feature: \" + feature_name)\n",
    "    ax.set_xlabel(feature_name)\n",
    "    ax.set_ylabel(\"PE\")\n",
    "    ax.legend()\n",
    "    plt.show()"
   ]
  },
  {
   "cell_type": "code",
   "execution_count": 8,
   "id": "af5a8abb",
   "metadata": {},
   "outputs": [],
   "source": [
    "threshold = 4 / len(ccp_df)\n",
    "univar_regr_coefficients = []\n",
    "\n",
    "def SimpleLinearRegression(feature_name, X, Y):\n",
    "    X_const = sm.add_constant(X)\n",
    "    model = sm.OLS(Y, X_const).fit()\n",
    "    univar_regr_coefficients.append(model.params[1])\n",
    "    \n",
    "    cooks = model.get_influence().cooks_distance\n",
    "    outliers_index = [i for i, cook_value in enumerate(cooks[0]) if cook_value > threshold]\n",
    "    outliers_df = pd.DataFrame({feature_name: X[outliers_index], 'PE': Y[outliers_index]})\n",
    "    \n",
    "    print(\"\\033[1mModel Summary:\\n\")\n",
    "    print(model.summary())\n",
    "    print()\n",
    "    print(\"Note: In the above summary, y: PE, x1: \", feature_name)\n",
    "    print()\n",
    "    print(\"-------------------------------------------------------------------------------------------------------\")\n",
    "    print(\"\\n\\n\\033[1mOutliers we would like to remove from the data:\")\n",
    "    display(outliers_df)\n",
    "    print()\n",
    "    print()\n",
    "    print(\"-------------------------------------------------------------------------------------------------------\")\n",
    "    print(\"\\n\\n\\033[1mSimple Linear Regression Plot:\")\n",
    "    PlotGraph(X, X_const, Y, feature_name, outliers_index,model)"
   ]
  },
  {
   "cell_type": "code",
   "execution_count": 9,
   "id": "df74726b",
   "metadata": {},
   "outputs": [
    {
     "name": "stdout",
     "output_type": "stream",
     "text": [
      "\u001b[1mModel Summary:\n",
      "\n",
      "                            OLS Regression Results                            \n",
      "==============================================================================\n",
      "Dep. Variable:                      y   R-squared:                       0.899\n",
      "Model:                            OLS   Adj. R-squared:                  0.899\n",
      "Method:                 Least Squares   F-statistic:                 8.510e+04\n",
      "Date:                Fri, 22 Sep 2023   Prob (F-statistic):               0.00\n",
      "Time:                        18:11:11   Log-Likelihood:                -29756.\n",
      "No. Observations:                9568   AIC:                         5.952e+04\n",
      "Df Residuals:                    9566   BIC:                         5.953e+04\n",
      "Df Model:                           1                                         \n",
      "Covariance Type:            nonrobust                                         \n",
      "==============================================================================\n",
      "                 coef    std err          t      P>|t|      [0.025      0.975]\n",
      "------------------------------------------------------------------------------\n",
      "const        497.0341      0.156   3177.280      0.000     496.727     497.341\n",
      "x1            -2.1713      0.007   -291.715      0.000      -2.186      -2.157\n",
      "==============================================================================\n",
      "Omnibus:                      417.457   Durbin-Watson:                   2.033\n",
      "Prob(Omnibus):                  0.000   Jarque-Bera (JB):             1117.844\n",
      "Skew:                          -0.209   Prob(JB):                    1.83e-243\n",
      "Kurtosis:                       4.621   Cond. No.                         59.4\n",
      "==============================================================================\n",
      "\n",
      "Notes:\n",
      "[1] Standard Errors assume that the covariance matrix of the errors is correctly specified.\n",
      "\n",
      "Note: In the above summary, y: PE, x1:  AT\n",
      "\n",
      "-------------------------------------------------------------------------------------------------------\n",
      "\n",
      "\n",
      "\u001b[1mOutliers we would like to remove from the data:\n"
     ]
    },
    {
     "data": {
      "text/html": [
       "<div>\n",
       "<style scoped>\n",
       "    .dataframe tbody tr th:only-of-type {\n",
       "        vertical-align: middle;\n",
       "    }\n",
       "\n",
       "    .dataframe tbody tr th {\n",
       "        vertical-align: top;\n",
       "    }\n",
       "\n",
       "    .dataframe thead th {\n",
       "        text-align: right;\n",
       "    }\n",
       "</style>\n",
       "<table border=\"1\" class=\"dataframe\">\n",
       "  <thead>\n",
       "    <tr style=\"text-align: right;\">\n",
       "      <th></th>\n",
       "      <th>AT</th>\n",
       "      <th>PE</th>\n",
       "    </tr>\n",
       "  </thead>\n",
       "  <tbody>\n",
       "    <tr>\n",
       "      <th>0</th>\n",
       "      <td>5.41</td>\n",
       "      <td>495.24</td>\n",
       "    </tr>\n",
       "    <tr>\n",
       "      <th>1</th>\n",
       "      <td>29.01</td>\n",
       "      <td>446.22</td>\n",
       "    </tr>\n",
       "    <tr>\n",
       "      <th>2</th>\n",
       "      <td>32.72</td>\n",
       "      <td>437.99</td>\n",
       "    </tr>\n",
       "    <tr>\n",
       "      <th>3</th>\n",
       "      <td>35.56</td>\n",
       "      <td>429.69</td>\n",
       "    </tr>\n",
       "    <tr>\n",
       "      <th>4</th>\n",
       "      <td>27.54</td>\n",
       "      <td>450.22</td>\n",
       "    </tr>\n",
       "    <tr>\n",
       "      <th>...</th>\n",
       "      <td>...</td>\n",
       "      <td>...</td>\n",
       "    </tr>\n",
       "    <tr>\n",
       "      <th>411</th>\n",
       "      <td>33.20</td>\n",
       "      <td>438.12</td>\n",
       "    </tr>\n",
       "    <tr>\n",
       "      <th>412</th>\n",
       "      <td>30.26</td>\n",
       "      <td>442.98</td>\n",
       "    </tr>\n",
       "    <tr>\n",
       "      <th>413</th>\n",
       "      <td>34.03</td>\n",
       "      <td>440.29</td>\n",
       "    </tr>\n",
       "    <tr>\n",
       "      <th>414</th>\n",
       "      <td>5.01</td>\n",
       "      <td>475.34</td>\n",
       "    </tr>\n",
       "    <tr>\n",
       "      <th>415</th>\n",
       "      <td>26.22</td>\n",
       "      <td>454.20</td>\n",
       "    </tr>\n",
       "  </tbody>\n",
       "</table>\n",
       "<p>416 rows × 2 columns</p>\n",
       "</div>"
      ],
      "text/plain": [
       "        AT      PE\n",
       "0     5.41  495.24\n",
       "1    29.01  446.22\n",
       "2    32.72  437.99\n",
       "3    35.56  429.69\n",
       "4    27.54  450.22\n",
       "..     ...     ...\n",
       "411  33.20  438.12\n",
       "412  30.26  442.98\n",
       "413  34.03  440.29\n",
       "414   5.01  475.34\n",
       "415  26.22  454.20\n",
       "\n",
       "[416 rows x 2 columns]"
      ]
     },
     "metadata": {},
     "output_type": "display_data"
    },
    {
     "name": "stdout",
     "output_type": "stream",
     "text": [
      "\n",
      "\n",
      "-------------------------------------------------------------------------------------------------------\n",
      "\n",
      "\n",
      "\u001b[1mSimple Linear Regression Plot:\n"
     ]
    },
    {
     "data": {
      "image/png": "[encoded data removed]",
      "text/plain": [
       "<Figure size 720x432 with 1 Axes>"
      ]
     },
     "metadata": {
      "needs_background": "light"
     },
     "output_type": "display_data"
    }
   ],
   "source": [
    "SimpleLinearRegression(\"AT\", X_train_AT, y_train)"
   ]
  },
  {
   "cell_type": "code",
   "execution_count": 10,
   "id": "6e1d48dd",
   "metadata": {},
   "outputs": [
    {
     "name": "stdout",
     "output_type": "stream",
     "text": [
      "\u001b[1mModel Summary:\n",
      "\n",
      "                            OLS Regression Results                            \n",
      "==============================================================================\n",
      "Dep. Variable:                      y   R-squared:                       0.757\n",
      "Model:                            OLS   Adj. R-squared:                  0.756\n",
      "Method:                 Least Squares   F-statistic:                 2.972e+04\n",
      "Date:                Fri, 22 Sep 2023   Prob (F-statistic):               0.00\n",
      "Time:                        18:11:11   Log-Likelihood:                -33963.\n",
      "No. Observations:                9568   AIC:                         6.793e+04\n",
      "Df Residuals:                    9566   BIC:                         6.794e+04\n",
      "Df Model:                           1                                         \n",
      "Covariance Type:            nonrobust                                         \n",
      "==============================================================================\n",
      "                 coef    std err          t      P>|t|      [0.025      0.975]\n",
      "------------------------------------------------------------------------------\n",
      "const        517.8015      0.378   1370.218      0.000     517.061     518.542\n",
      "x1            -1.1681      0.007   -172.402      0.000      -1.181      -1.155\n",
      "==============================================================================\n",
      "Omnibus:                       77.693   Durbin-Watson:                   2.007\n",
      "Prob(Omnibus):                  0.000   Jarque-Bera (JB):              109.571\n",
      "Skew:                          -0.097   Prob(JB):                     1.61e-24\n",
      "Kurtosis:                       3.487   Cond. No.                         245.\n",
      "==============================================================================\n",
      "\n",
      "Notes:\n",
      "[1] Standard Errors assume that the covariance matrix of the errors is correctly specified.\n",
      "\n",
      "Note: In the above summary, y: PE, x1:  V\n",
      "\n",
      "-------------------------------------------------------------------------------------------------------\n",
      "\n",
      "\n",
      "\u001b[1mOutliers we would like to remove from the data:\n"
     ]
    },
    {
     "data": {
      "text/html": [
       "<div>\n",
       "<style scoped>\n",
       "    .dataframe tbody tr th:only-of-type {\n",
       "        vertical-align: middle;\n",
       "    }\n",
       "\n",
       "    .dataframe tbody tr th {\n",
       "        vertical-align: top;\n",
       "    }\n",
       "\n",
       "    .dataframe thead th {\n",
       "        text-align: right;\n",
       "    }\n",
       "</style>\n",
       "<table border=\"1\" class=\"dataframe\">\n",
       "  <thead>\n",
       "    <tr style=\"text-align: right;\">\n",
       "      <th></th>\n",
       "      <th>V</th>\n",
       "      <th>PE</th>\n",
       "    </tr>\n",
       "  </thead>\n",
       "  <tbody>\n",
       "    <tr>\n",
       "      <th>0</th>\n",
       "      <td>39.40</td>\n",
       "      <td>488.56</td>\n",
       "    </tr>\n",
       "    <tr>\n",
       "      <th>1</th>\n",
       "      <td>40.07</td>\n",
       "      <td>495.24</td>\n",
       "    </tr>\n",
       "    <tr>\n",
       "      <th>2</th>\n",
       "      <td>48.60</td>\n",
       "      <td>436.06</td>\n",
       "    </tr>\n",
       "    <tr>\n",
       "      <th>3</th>\n",
       "      <td>43.43</td>\n",
       "      <td>448.06</td>\n",
       "    </tr>\n",
       "    <tr>\n",
       "      <th>4</th>\n",
       "      <td>39.33</td>\n",
       "      <td>491.49</td>\n",
       "    </tr>\n",
       "    <tr>\n",
       "      <th>...</th>\n",
       "      <td>...</td>\n",
       "      <td>...</td>\n",
       "    </tr>\n",
       "    <tr>\n",
       "      <th>418</th>\n",
       "      <td>75.23</td>\n",
       "      <td>443.78</td>\n",
       "    </tr>\n",
       "    <tr>\n",
       "      <th>419</th>\n",
       "      <td>39.72</td>\n",
       "      <td>455.58</td>\n",
       "    </tr>\n",
       "    <tr>\n",
       "      <th>420</th>\n",
       "      <td>44.89</td>\n",
       "      <td>445.45</td>\n",
       "    </tr>\n",
       "    <tr>\n",
       "      <th>421</th>\n",
       "      <td>43.77</td>\n",
       "      <td>446.05</td>\n",
       "    </tr>\n",
       "    <tr>\n",
       "      <th>422</th>\n",
       "      <td>25.36</td>\n",
       "      <td>470.90</td>\n",
       "    </tr>\n",
       "  </tbody>\n",
       "</table>\n",
       "<p>423 rows × 2 columns</p>\n",
       "</div>"
      ],
      "text/plain": [
       "         V      PE\n",
       "0    39.40  488.56\n",
       "1    40.07  495.24\n",
       "2    48.60  436.06\n",
       "3    43.43  448.06\n",
       "4    39.33  491.49\n",
       "..     ...     ...\n",
       "418  75.23  443.78\n",
       "419  39.72  455.58\n",
       "420  44.89  445.45\n",
       "421  43.77  446.05\n",
       "422  25.36  470.90\n",
       "\n",
       "[423 rows x 2 columns]"
      ]
     },
     "metadata": {},
     "output_type": "display_data"
    },
    {
     "name": "stdout",
     "output_type": "stream",
     "text": [
      "\n",
      "\n",
      "-------------------------------------------------------------------------------------------------------\n",
      "\n",
      "\n",
      "\u001b[1mSimple Linear Regression Plot:\n"
     ]
    },
    {
     "data": {
      "image/png": "[encoded data removed]",
      "text/plain": [
       "<Figure size 720x432 with 1 Axes>"
      ]
     },
     "metadata": {
      "needs_background": "light"
     },
     "output_type": "display_data"
    }
   ],
   "source": [
    "SimpleLinearRegression(\"V\", X_train_V, y_train)"
   ]
  },
  {
   "cell_type": "code",
   "execution_count": 11,
   "id": "4a7c4805",
   "metadata": {},
   "outputs": [
    {
     "name": "stdout",
     "output_type": "stream",
     "text": [
      "\u001b[1mModel Summary:\n",
      "\n",
      "                            OLS Regression Results                            \n",
      "==============================================================================\n",
      "Dep. Variable:                      y   R-squared:                       0.269\n",
      "Model:                            OLS   Adj. R-squared:                  0.269\n",
      "Method:                 Least Squares   F-statistic:                     3516.\n",
      "Date:                Fri, 22 Sep 2023   Prob (F-statistic):               0.00\n",
      "Time:                        18:11:11   Log-Likelihood:                -39224.\n",
      "No. Observations:                9568   AIC:                         7.845e+04\n",
      "Df Residuals:                    9566   BIC:                         7.847e+04\n",
      "Df Model:                           1                                         \n",
      "Covariance Type:            nonrobust                                         \n",
      "==============================================================================\n",
      "                 coef    std err          t      P>|t|      [0.025      0.975]\n",
      "------------------------------------------------------------------------------\n",
      "const      -1055.2610     25.459    -41.449      0.000   -1105.167   -1005.355\n",
      "x1             1.4899      0.025     59.296      0.000       1.441       1.539\n",
      "==============================================================================\n",
      "Omnibus:                      525.438   Durbin-Watson:                   1.996\n",
      "Prob(Omnibus):                  0.000   Jarque-Bera (JB):              612.290\n",
      "Skew:                           0.616   Prob(JB):                    1.10e-133\n",
      "Kurtosis:                       2.859   Cond. No.                     1.73e+05\n",
      "==============================================================================\n",
      "\n",
      "Notes:\n",
      "[1] Standard Errors assume that the covariance matrix of the errors is correctly specified.\n",
      "[2] The condition number is large, 1.73e+05. This might indicate that there are\n",
      "strong multicollinearity or other numerical problems.\n",
      "\n",
      "Note: In the above summary, y: PE, x1:  AP\n",
      "\n",
      "-------------------------------------------------------------------------------------------------------\n",
      "\n",
      "\n",
      "\u001b[1mOutliers we would like to remove from the data:\n"
     ]
    },
    {
     "data": {
      "text/html": [
       "<div>\n",
       "<style scoped>\n",
       "    .dataframe tbody tr th:only-of-type {\n",
       "        vertical-align: middle;\n",
       "    }\n",
       "\n",
       "    .dataframe tbody tr th {\n",
       "        vertical-align: top;\n",
       "    }\n",
       "\n",
       "    .dataframe thead th {\n",
       "        text-align: right;\n",
       "    }\n",
       "</style>\n",
       "<table border=\"1\" class=\"dataframe\">\n",
       "  <thead>\n",
       "    <tr style=\"text-align: right;\">\n",
       "      <th></th>\n",
       "      <th>AP</th>\n",
       "      <th>PE</th>\n",
       "    </tr>\n",
       "  </thead>\n",
       "  <tbody>\n",
       "    <tr>\n",
       "      <th>0</th>\n",
       "      <td>1019.16</td>\n",
       "      <td>495.24</td>\n",
       "    </tr>\n",
       "    <tr>\n",
       "      <th>1</th>\n",
       "      <td>1008.52</td>\n",
       "      <td>483.80</td>\n",
       "    </tr>\n",
       "    <tr>\n",
       "      <th>2</th>\n",
       "      <td>1010.18</td>\n",
       "      <td>491.49</td>\n",
       "    </tr>\n",
       "    <tr>\n",
       "      <th>3</th>\n",
       "      <td>1008.82</td>\n",
       "      <td>481.09</td>\n",
       "    </tr>\n",
       "    <tr>\n",
       "      <th>4</th>\n",
       "      <td>1001.24</td>\n",
       "      <td>459.36</td>\n",
       "    </tr>\n",
       "    <tr>\n",
       "      <th>...</th>\n",
       "      <td>...</td>\n",
       "      <td>...</td>\n",
       "    </tr>\n",
       "    <tr>\n",
       "      <th>295</th>\n",
       "      <td>1030.61</td>\n",
       "      <td>464.95</td>\n",
       "    </tr>\n",
       "    <tr>\n",
       "      <th>296</th>\n",
       "      <td>1008.43</td>\n",
       "      <td>484.75</td>\n",
       "    </tr>\n",
       "    <tr>\n",
       "      <th>297</th>\n",
       "      <td>1005.24</td>\n",
       "      <td>479.22</td>\n",
       "    </tr>\n",
       "    <tr>\n",
       "      <th>298</th>\n",
       "      <td>998.27</td>\n",
       "      <td>472.16</td>\n",
       "    </tr>\n",
       "    <tr>\n",
       "      <th>299</th>\n",
       "      <td>1003.69</td>\n",
       "      <td>475.34</td>\n",
       "    </tr>\n",
       "  </tbody>\n",
       "</table>\n",
       "<p>300 rows × 2 columns</p>\n",
       "</div>"
      ],
      "text/plain": [
       "          AP      PE\n",
       "0    1019.16  495.24\n",
       "1    1008.52  483.80\n",
       "2    1010.18  491.49\n",
       "3    1008.82  481.09\n",
       "4    1001.24  459.36\n",
       "..       ...     ...\n",
       "295  1030.61  464.95\n",
       "296  1008.43  484.75\n",
       "297  1005.24  479.22\n",
       "298   998.27  472.16\n",
       "299  1003.69  475.34\n",
       "\n",
       "[300 rows x 2 columns]"
      ]
     },
     "metadata": {},
     "output_type": "display_data"
    },
    {
     "name": "stdout",
     "output_type": "stream",
     "text": [
      "\n",
      "\n",
      "-------------------------------------------------------------------------------------------------------\n",
      "\n",
      "\n",
      "\u001b[1mSimple Linear Regression Plot:\n"
     ]
    },
    {
     "data": {
      "image/png": "[encoded data removed]",
      "text/plain": [
       "<Figure size 720x432 with 1 Axes>"
      ]
     },
     "metadata": {
      "needs_background": "light"
     },
     "output_type": "display_data"
    }
   ],
   "source": [
    "SimpleLinearRegression(\"AP\", X_train_AP, y_train)"
   ]
  },
  {
   "cell_type": "code",
   "execution_count": 12,
   "id": "55f51e60",
   "metadata": {},
   "outputs": [
    {
     "name": "stdout",
     "output_type": "stream",
     "text": [
      "\u001b[1mModel Summary:\n",
      "\n",
      "                            OLS Regression Results                            \n",
      "==============================================================================\n",
      "Dep. Variable:                      y   R-squared:                       0.152\n",
      "Model:                            OLS   Adj. R-squared:                  0.152\n",
      "Method:                 Least Squares   F-statistic:                     1714.\n",
      "Date:                Fri, 22 Sep 2023   Prob (F-statistic):               0.00\n",
      "Time:                        18:11:11   Log-Likelihood:                -39933.\n",
      "No. Observations:                9568   AIC:                         7.987e+04\n",
      "Df Residuals:                    9566   BIC:                         7.988e+04\n",
      "Df Model:                           1                                         \n",
      "Covariance Type:            nonrobust                                         \n",
      "==============================================================================\n",
      "                 coef    std err          t      P>|t|      [0.025      0.975]\n",
      "------------------------------------------------------------------------------\n",
      "const        420.9618      0.823    511.676      0.000     419.349     422.574\n",
      "x1             0.4557      0.011     41.399      0.000       0.434       0.477\n",
      "==============================================================================\n",
      "Omnibus:                      772.278   Durbin-Watson:                   1.998\n",
      "Prob(Omnibus):                  0.000   Jarque-Bera (JB):              319.245\n",
      "Skew:                           0.231   Prob(JB):                     4.75e-70\n",
      "Kurtosis:                       2.234   Cond. No.                         383.\n",
      "==============================================================================\n",
      "\n",
      "Notes:\n",
      "[1] Standard Errors assume that the covariance matrix of the errors is correctly specified.\n",
      "\n",
      "Note: In the above summary, y: PE, x1:  RH\n",
      "\n",
      "-------------------------------------------------------------------------------------------------------\n",
      "\n",
      "\n",
      "\u001b[1mOutliers we would like to remove from the data:\n"
     ]
    },
    {
     "data": {
      "text/html": [
       "<div>\n",
       "<style scoped>\n",
       "    .dataframe tbody tr th:only-of-type {\n",
       "        vertical-align: middle;\n",
       "    }\n",
       "\n",
       "    .dataframe tbody tr th {\n",
       "        vertical-align: top;\n",
       "    }\n",
       "\n",
       "    .dataframe thead th {\n",
       "        text-align: right;\n",
       "    }\n",
       "</style>\n",
       "<table border=\"1\" class=\"dataframe\">\n",
       "  <thead>\n",
       "    <tr style=\"text-align: right;\">\n",
       "      <th></th>\n",
       "      <th>RH</th>\n",
       "      <th>PE</th>\n",
       "    </tr>\n",
       "  </thead>\n",
       "  <tbody>\n",
       "    <tr>\n",
       "      <th>0</th>\n",
       "      <td>41.25</td>\n",
       "      <td>475.98</td>\n",
       "    </tr>\n",
       "    <tr>\n",
       "      <th>1</th>\n",
       "      <td>43.08</td>\n",
       "      <td>462.19</td>\n",
       "    </tr>\n",
       "    <tr>\n",
       "      <th>2</th>\n",
       "      <td>48.84</td>\n",
       "      <td>467.54</td>\n",
       "    </tr>\n",
       "    <tr>\n",
       "      <th>3</th>\n",
       "      <td>64.77</td>\n",
       "      <td>495.24</td>\n",
       "    </tr>\n",
       "    <tr>\n",
       "      <th>4</th>\n",
       "      <td>50.00</td>\n",
       "      <td>474.60</td>\n",
       "    </tr>\n",
       "    <tr>\n",
       "      <th>...</th>\n",
       "      <td>...</td>\n",
       "      <td>...</td>\n",
       "    </tr>\n",
       "    <tr>\n",
       "      <th>244</th>\n",
       "      <td>97.21</td>\n",
       "      <td>490.68</td>\n",
       "    </tr>\n",
       "    <tr>\n",
       "      <th>245</th>\n",
       "      <td>98.84</td>\n",
       "      <td>490.50</td>\n",
       "    </tr>\n",
       "    <tr>\n",
       "      <th>246</th>\n",
       "      <td>90.20</td>\n",
       "      <td>430.55</td>\n",
       "    </tr>\n",
       "    <tr>\n",
       "      <th>247</th>\n",
       "      <td>93.39</td>\n",
       "      <td>434.11</td>\n",
       "    </tr>\n",
       "    <tr>\n",
       "      <th>248</th>\n",
       "      <td>99.27</td>\n",
       "      <td>433.62</td>\n",
       "    </tr>\n",
       "  </tbody>\n",
       "</table>\n",
       "<p>249 rows × 2 columns</p>\n",
       "</div>"
      ],
      "text/plain": [
       "        RH      PE\n",
       "0    41.25  475.98\n",
       "1    43.08  462.19\n",
       "2    48.84  467.54\n",
       "3    64.77  495.24\n",
       "4    50.00  474.60\n",
       "..     ...     ...\n",
       "244  97.21  490.68\n",
       "245  98.84  490.50\n",
       "246  90.20  430.55\n",
       "247  93.39  434.11\n",
       "248  99.27  433.62\n",
       "\n",
       "[249 rows x 2 columns]"
      ]
     },
     "metadata": {},
     "output_type": "display_data"
    },
    {
     "name": "stdout",
     "output_type": "stream",
     "text": [
      "\n",
      "\n",
      "-------------------------------------------------------------------------------------------------------\n",
      "\n",
      "\n",
      "\u001b[1mSimple Linear Regression Plot:\n"
     ]
    },
    {
     "data": {
      "image/png": "[encoded data removed]",
      "text/plain": [
       "<Figure size 720x432 with 1 Axes>"
      ]
     },
     "metadata": {
      "needs_background": "light"
     },
     "output_type": "display_data"
    }
   ],
   "source": [
    "SimpleLinearRegression(\"RH\", X_train_RH, y_train)"
   ]
  },
  {
   "cell_type": "markdown",
   "id": "dc32aa18",
   "metadata": {},
   "source": [
    "<h3><b>Discussion</b></h3><br>\n",
    "\n",
    "- <b>Based on the p-values, all four models show a statistically significant relationship between the predictors and the response.</b><br>\n",
    "\n",
    "- <b>Additionally, the R-squared values differ among the models. For AT and V, which have high R-squared values, the models explain a substantial portion of the variance in the response variable, suggesting a strong predictive relationship. In contrast, the models for RH and AP have lower R-squared values, indicating that a significant portion of the variance remains unexplained, resulting in higher unexplained errors.</b><br>\n",
    "\n",
    "- <b>Furthermore, the negative coefficients for AT and V indicate a negative slope in their relationships with the response variable.</b><br>\n",
    "\n",
    "- <b>In summary, based on the R-squared values and the significance of predictors in the models, it is evident that the models for AT and V exhibit a statistically significant and stronger association between the predictor variables and the response variable.</b>"
   ]
  },
  {
   "cell_type": "markdown",
   "id": "c816fc84",
   "metadata": {},
   "source": [
    "# "
   ]
  },
  {
   "cell_type": "markdown",
   "id": "5b1e6ff1",
   "metadata": {},
   "source": [
    "<b>(d) Fit a multiple regression model to predict the response using all of the predictors. Describe your results. For which predictors can we reject the null hypothesis H0 : βj = 0?</b>"
   ]
  },
  {
   "cell_type": "code",
   "execution_count": 13,
   "id": "32d92ed5",
   "metadata": {},
   "outputs": [
    {
     "name": "stdout",
     "output_type": "stream",
     "text": [
      "                            OLS Regression Results                            \n",
      "==============================================================================\n",
      "Dep. Variable:                     PE   R-squared:                       0.929\n",
      "Model:                            OLS   Adj. R-squared:                  0.929\n",
      "Method:                 Least Squares   F-statistic:                 3.114e+04\n",
      "Date:                Fri, 22 Sep 2023   Prob (F-statistic):               0.00\n",
      "Time:                        18:11:12   Log-Likelihood:                -28088.\n",
      "No. Observations:                9568   AIC:                         5.619e+04\n",
      "Df Residuals:                    9563   BIC:                         5.622e+04\n",
      "Df Model:                           4                                         \n",
      "Covariance Type:            nonrobust                                         \n",
      "==============================================================================\n",
      "                 coef    std err          t      P>|t|      [0.025      0.975]\n",
      "------------------------------------------------------------------------------\n",
      "const        454.6093      9.749     46.634      0.000     435.500     473.718\n",
      "AT            -1.9775      0.015   -129.342      0.000      -2.007      -1.948\n",
      "V             -0.2339      0.007    -32.122      0.000      -0.248      -0.220\n",
      "AP             0.0621      0.009      6.564      0.000       0.044       0.081\n",
      "RH            -0.1581      0.004    -37.918      0.000      -0.166      -0.150\n",
      "==============================================================================\n",
      "Omnibus:                      892.002   Durbin-Watson:                   2.033\n",
      "Prob(Omnibus):                  0.000   Jarque-Bera (JB):             4086.777\n",
      "Skew:                          -0.352   Prob(JB):                         0.00\n",
      "Kurtosis:                       6.123   Cond. No.                     2.13e+05\n",
      "==============================================================================\n",
      "\n",
      "Notes:\n",
      "[1] Standard Errors assume that the covariance matrix of the errors is correctly specified.\n",
      "[2] The condition number is large, 2.13e+05. This might indicate that there are\n",
      "strong multicollinearity or other numerical problems.\n"
     ]
    }
   ],
   "source": [
    "multivar_regr_coefficients = []\n",
    "\n",
    "X = ccp_df[ccp_df.columns[:-1]]\n",
    "Y = ccp_df['PE']\n",
    "model = sm.OLS(Y, sm.add_constant(X)).fit()\n",
    "\n",
    "for i in range(1,len(ccp_df.columns)):\n",
    "    multivar_regr_coefficients.append(model.params[i])\n",
    "    \n",
    "print(model.summary())"
   ]
  },
  {
   "cell_type": "markdown",
   "id": "cb54dbd3",
   "metadata": {},
   "source": [
    "<h3><b>Discussion</b></h3>\n",
    "\n",
    "- <b>Given that the p-values for all variables are less than 0.05 (p < 0.05), it is evident that all of them are statistically significant, so we can reject the null hypothesis (H0 : βj = 0) for all predictors.</b><br>"
   ]
  },
  {
   "cell_type": "markdown",
   "id": "a0d9344e",
   "metadata": {},
   "source": [
    "# "
   ]
  },
  {
   "cell_type": "markdown",
   "id": "a98808e8",
   "metadata": {},
   "source": [
    "<b>(e) How do your results from 1c compare to your results from 1d? Create a plot\n",
    "displaying the univariate regression coefficients from 1c on the x-axis, and the\n",
    "multiple regression coefficients from 1d on the y-axis. That is, each predictor is\n",
    "displayed as a single point in the plot. Its coefficient in a simple linear regression\n",
    "model is shown on the x-axis, and its coefficient estimate in the multiple linear\n",
    "regression model is shown on the y-axis.</b>"
   ]
  },
  {
   "cell_type": "code",
   "execution_count": null,
   "id": "7261fb44",
   "metadata": {},
   "outputs": [],
   "source": [
    "univar_regr_coefficients"
   ]
  },
  {
   "cell_type": "code",
   "execution_count": null,
   "id": "a1eec959",
   "metadata": {},
   "outputs": [],
   "source": [
    "multivar_regr_coefficients"
   ]
  },
  {
   "cell_type": "code",
   "execution_count": null,
   "id": "2c401349",
   "metadata": {},
   "outputs": [],
   "source": [
    "x_offset, y_offset = 9, -2\n",
    "figure(figsize=(14, 6))\n",
    "\n",
    "for i, txt in enumerate(ccp_df.columns[:-1]):\n",
    "    legend_val = f\"{txt} : [{np.round(univar_regr_coefficients[i], 2)}, {np.round(multivar_regr_coefficients[i], 2)}]\"\n",
    "\n",
    "    plt.scatter(univar_regr_coefficients, multivar_regr_coefficients, s = 60, c = 'r', label = legend_val)\n",
    "    plt.annotate(txt, (univar_regr_coefficients[i], multivar_regr_coefficients[i]), xytext=(x_offset, y_offset), textcoords='offset points')\n",
    "    plt.title('Univariate regression coefficients vs Multiple regression coefficients')\n",
    "    plt.xlabel('Univariate regression coefficients')\n",
    "    plt.ylabel('Multiple regression coefficients')\n",
    "    plt.grid(True)\n",
    "    plt.legend() "
   ]
  },
  {
   "cell_type": "markdown",
   "id": "20126563",
   "metadata": {},
   "source": [
    "# "
   ]
  },
  {
   "cell_type": "markdown",
   "id": "4ae8a55d",
   "metadata": {},
   "source": [
    "<b>(f) Is there evidence of nonlinear association between any of the predictors and the response? To answer this question, for each predictor X, fit a model of the form </b><br>\n",
    "<center>$Y = \\beta_0 + \\beta_1X + \\beta_2X^2 + \\beta_3X^3 + \\epsilon$</center>\n"
   ]
  },
  {
   "cell_type": "code",
   "execution_count": null,
   "id": "8d093c8c",
   "metadata": {},
   "outputs": [],
   "source": [
    "def fit_polynomial_regression(feature_name):\n",
    "    X = ccp_df[feature_name].to_numpy().reshape(-1, 1)\n",
    "    y = ccp_df[\"PE\"].to_numpy()\n",
    "    \n",
    "    poly = PolynomialFeatures(3)\n",
    "    X_poly = poly.fit_transform(X)\n",
    "    \n",
    "    model = sm.OLS(y, X_poly).fit()\n",
    "    \n",
    "    print(model.summary())"
   ]
  },
  {
   "cell_type": "code",
   "execution_count": null,
   "id": "32f7b745",
   "metadata": {},
   "outputs": [],
   "source": [
    "fit_polynomial_regression(\"AT\")"
   ]
  },
  {
   "cell_type": "markdown",
   "id": "2a58672d",
   "metadata": {},
   "source": [
    "Note: In the above summary, y: PE, x1: $AT$, x2: $AT^2$, x3: $AT^3$"
   ]
  },
  {
   "cell_type": "code",
   "execution_count": null,
   "id": "f73a0041",
   "metadata": {},
   "outputs": [],
   "source": [
    "fit_polynomial_regression(\"V\")"
   ]
  },
  {
   "cell_type": "markdown",
   "id": "ce5f4d96",
   "metadata": {},
   "source": [
    "Note: In the above summary, y: PE, x1: $V$, x2: $V^2$, x3: $V^3$"
   ]
  },
  {
   "cell_type": "code",
   "execution_count": null,
   "id": "94922516",
   "metadata": {},
   "outputs": [],
   "source": [
    "fit_polynomial_regression(\"AP\")"
   ]
  },
  {
   "cell_type": "markdown",
   "id": "494ff9b1",
   "metadata": {},
   "source": [
    "Note: In the above summary, y: PE, x1: $AP$, x2: $AP^2$, x3: $AP^3$"
   ]
  },
  {
   "cell_type": "code",
   "execution_count": null,
   "id": "ddf712ee",
   "metadata": {},
   "outputs": [],
   "source": [
    "fit_polynomial_regression(\"RH\")"
   ]
  },
  {
   "cell_type": "markdown",
   "id": "8aa961be",
   "metadata": {},
   "source": [
    "Note: In the above summary, y: PE, x1: $RH$, x2: $RH^2$, x3: $RH^3$"
   ]
  },
  {
   "cell_type": "markdown",
   "id": "673135e1",
   "metadata": {},
   "source": [
    "<h3>Note: </h3>\n",
    "\n",
    "x = $x$<br>\n",
    "x2 = $x^2$<br>\n",
    "x3 = $x^3$,  &nbsp; where x : predictor"
   ]
  },
  {
   "cell_type": "markdown",
   "id": "58a96a35",
   "metadata": {},
   "source": [
    "<h3><b>Discussion</b></h3>\n",
    "\n",
    "1. **Significance of 'AT,' 'AP,' and 'RH':** The small p-values for 'AT,' 'AP,' and 'RH' indicate a strong statistical basis to reject the null hypothesis. This means there is substantial evidence supporting a non-linear association between these predictor variables and the response, suggesting that these factors exhibit meaningful non-linear patterns in explaining the response variable's variations.\n",
    "<br>\n",
    "2. **'V' and Its Non-Linear Association:** Conversely, for 'V,' the p-values for 𝑥2 and 𝑥3 are not negligible, particularly 𝑥2. This implies that there is insufficient statistical evidence to reject the null hypothesis for 'V.' In practical terms, this suggests that 'V' does not exhibit a significant non-linear relationship with the response variable, particularly when considering 𝑥2.\n"
   ]
  },
  {
   "cell_type": "markdown",
   "id": "fb63a0d1",
   "metadata": {},
   "source": [
    "# "
   ]
  },
  {
   "cell_type": "markdown",
   "id": "f4d05036",
   "metadata": {},
   "source": [
    "<b>(g) Is there evidence of association of interactions of predictors with the response? To\n",
    "answer this question, run a full linear regression model with all pairwise interaction\n",
    "terms and state whether any interaction terms are statistically significant.</b>"
   ]
  },
  {
   "cell_type": "code",
   "execution_count": null,
   "id": "d8b8f698",
   "metadata": {},
   "outputs": [],
   "source": [
    "target = \"PE\"\n",
    "predictors = ccp_df.columns[:-1]\n",
    "formula = f\"{target} ~ {' + '.join(predictors)} + {' + '.join([f'{x}*{y}' for x in predictors for y in predictors if x != y])}\"\n",
    "model = smf.ols(formula = formula, data = ccp_df).fit()    \n",
    "print(model.summary())"
   ]
  },
  {
   "cell_type": "markdown",
   "id": "ee9f4f3c",
   "metadata": {},
   "source": [
    "<h3><b>Discussion</b></h3>\n",
    "\n",
    "<b>Based on the analysis of p-values at different significance levels:</b>\n",
    "- <b>Features such as V, AP, RH, and interaction terms AT * V, AT * RH, V * AP, and AP * RH are statistically significant at a p-value threshold of 0.05.</b>\n",
    "- <b> At a p-value threshold of 0.10, AT and V * RH also become statistically significant.</b>\n",
    "- <b> However, AT * AP is not statistically significant, as it exhibits an extremely high p-value. </b>"
   ]
  },
  {
   "cell_type": "markdown",
   "id": "239dc1ee",
   "metadata": {},
   "source": [
    "# "
   ]
  },
  {
   "cell_type": "markdown",
   "id": "b4ea3566",
   "metadata": {},
   "source": [
    "<b>(h) Can you improve your model using possible interaction terms or nonlinear associations between the predictors and response? Train the regression model on a\n",
    "randomly selected 70% subset of the data with all predictors. Also, run a regression model involving all possible interaction terms and quadratic nonlinearities,\n",
    "and remove insignificant variables using p-values (be careful about interaction\n",
    "terms). Test both models on the remaining points and report your train and test\n",
    "MSEs.</b>"
   ]
  },
  {
   "cell_type": "code",
   "execution_count": null,
   "id": "98411e91",
   "metadata": {},
   "outputs": [],
   "source": [
    "ccp_df_train, ccp_df_test = train_test_split(ccp_df, train_size = 0.7, random_state = 3940)"
   ]
  },
  {
   "cell_type": "code",
   "execution_count": null,
   "id": "8f2f4e3c",
   "metadata": {},
   "outputs": [],
   "source": [
    "X_train, X_test, y_train, y_test = train_test_split(X, Y, train_size = 0.7, random_state = 3940)"
   ]
  },
  {
   "cell_type": "code",
   "execution_count": null,
   "id": "b49b2fdb",
   "metadata": {},
   "outputs": [],
   "source": [
    "results_df = pd.DataFrame(columns=[\"Formula\", \"Train MSE\", \"Test MSE\"])\n",
    "all_results_df = pd.DataFrame(columns=[\"Model\", \"Train MSE\", \"Test MSE\"])"
   ]
  },
  {
   "cell_type": "code",
   "execution_count": null,
   "id": "5fe8a146",
   "metadata": {},
   "outputs": [],
   "source": [
    "def regression_model(formula):\n",
    "    model = smf.ols(formula = formula, data = ccp_df_train).fit()\n",
    "    y_train_predictions = model.predict(X_train)\n",
    "    y_test_predictions = model.predict(X_test)\n",
    "\n",
    "    mse_train = mean_squared_error(y_train, y_train_predictions)\n",
    "    mse_test = mean_squared_error(y_test, y_test_predictions)\n",
    "    print()\n",
    "    print(model.summary())\n",
    "    print()\n",
    "    print(\"\\033[1mFormula: \"+str(formula))\n",
    "    print(\"\\033[1mTrain MSE: \"+str(mse_train))\n",
    "    print(\"\\033[1mTest MSE: \"+str(mse_test))\n",
    "    print()\n",
    "    return mse_train, mse_test"
   ]
  },
  {
   "cell_type": "code",
   "execution_count": null,
   "id": "6dd43c1e",
   "metadata": {},
   "outputs": [],
   "source": [
    "formula = f\"PE ~ {' + '.join(predictors)}\"\n",
    "mse_train, mse_test = regression_model(formula)\n",
    "results_df = results_df.append({\"Formula\": formula, \"Train MSE\": mse_train, \"Test MSE\": mse_test}, ignore_index=True)\n",
    "all_results_df = all_results_df.append({\"Model\": \"Linear Regression (all)\", \"Train MSE\": mse_train, \"Test MSE\": mse_test}, ignore_index=True)"
   ]
  },
  {
   "cell_type": "code",
   "execution_count": null,
   "id": "d656a7ee",
   "metadata": {},
   "outputs": [],
   "source": [
    "quadratic_terms = [f'np.power({var}, 2)' for var in predictors]\n",
    "interaction_terms = [f'{var1}*{var2}' for var1 in predictors for var2 in predictors if var1 < var2]\n",
    "\n",
    "formula = f\"PE ~ {' + '.join(predictors)} + {' + '.join(quadratic_terms)} + {' + '.join(interaction_terms)}\"\n",
    "mse_train, mse_test = regression_model(formula)\n",
    "results_df = results_df.append({\"Formula\": formula, \"Train MSE\": mse_train, \"Test MSE\": mse_test}, ignore_index=True)\n",
    "all_results_df = all_results_df.append({\"Model\": \"Linear Regression (all possible interaction terms and quadratic nonlinearities)\", \"Train MSE\": mse_train, \"Test MSE\": mse_test}, ignore_index=True)"
   ]
  },
  {
   "cell_type": "markdown",
   "id": "a76c9668",
   "metadata": {},
   "source": [
    "- <b>If the significance level exceeds 0.05, we opt to exclude the terms $V^2$, (AP * AT), (AP * V), and (RH * V) from the model. It's worth noting that we retain the feature 'V' as it is basic predictor and the presence of the interaction term (AT * V) with a low p-value, which justifies its inclusion.</b><br><br>"
   ]
  },
  {
   "cell_type": "code",
   "execution_count": null,
   "id": "779e3bd9",
   "metadata": {},
   "outputs": [],
   "source": [
    "formula = 'PE ~ AT + V + AP + RH + np.power(AT,2) + np.power(AP,2) + np.power(RH,2) + AT*V + AT*RH + AP*RH'\n",
    "\n",
    "mse_train, mse_test = regression_model(formula)\n",
    "results_df = results_df.append({\"Formula\": formula, \"Train MSE\": mse_train, \"Test MSE\": mse_test}, ignore_index=True)\n",
    "all_results_df = all_results_df.append({\"Model\": \"Linear Regression (remove insignificant variables)\", \"Train MSE\": mse_train, \"Test MSE\": mse_test}, ignore_index=True)"
   ]
  },
  {
   "cell_type": "code",
   "execution_count": null,
   "id": "dda43179",
   "metadata": {},
   "outputs": [],
   "source": [
    "print(\"\\033[1mResults:\")\n",
    "results_df"
   ]
  },
  {
   "cell_type": "markdown",
   "id": "fa73c1d7",
   "metadata": {},
   "source": [
    "# "
   ]
  },
  {
   "cell_type": "markdown",
   "id": "f4b3d253",
   "metadata": {},
   "source": [
    "<b>(i) KNN Regression:</b><br>\n",
    "    \n",
    "  i. Perform k-nearest neighbor regression for this dataset using both normalized and raw features. Find the value of k ∈ {1,2, . . . ,100} that gives you the best fit. Plot the train and test errors in terms of 1/k."
   ]
  },
  {
   "cell_type": "code",
   "execution_count": null,
   "id": "1f5ec30f",
   "metadata": {},
   "outputs": [],
   "source": [
    "oneuponk_value_raw = []\n",
    "train_errors_raw = []\n",
    "test_errors_raw = []\n",
    "X_train_raw, X_test_raw, y_train_raw, y_test_raw = train_test_split(X, Y, train_size = 0.7, random_state = 3940)\n",
    "\n",
    "for k_value in range(1,101,1):\n",
    "    oneuponk_value_raw.append(1/k_value)\n",
    "    KNN_model = KNNRegression(n_neighbors = k_value)\n",
    "    KNN_model.fit(X_train_raw, y_train_raw)\n",
    "    train_errors_raw.append(mean_squared_error(y_train_raw, KNN_model.predict(X_train_raw)))\n",
    "    test_errors_raw.append(mean_squared_error(y_test_raw, KNN_model.predict(X_test_raw)))\n",
    "\n",
    "figure(figsize=(10, 6))         \n",
    "plt.plot(oneuponk_value_raw, train_errors_raw, label = 'Train Error')\n",
    "plt.plot(oneuponk_value_raw, test_errors_raw, label = 'Test Error')\n",
    "plt.title('Train and Test errors in terms of 1/k (RAW)') \n",
    "plt.xlabel('1/k value')\n",
    "plt.ylabel('Error')\n",
    "plt.legend()\n",
    "plt.show()\n",
    "\n",
    "print(\"\\033[1mBest K:\", 1/(oneuponk_value_raw[test_errors_raw.index(min(test_errors_raw))]))\n",
    "print(\"\\033[1mMinimum Train MSE:\", train_errors_raw[test_errors_raw.index(min(test_errors_raw))])\n",
    "print(\"\\033[1mMinimum Test MSE:\", min(test_errors_raw))\n",
    "all_results_df = all_results_df.append({\"Model\": \"KNN (raw features)\", \"Train MSE\": train_errors_raw[test_errors_raw.index(min(test_errors_raw))],\"Test MSE\": min(test_errors_raw)}, ignore_index=True)"
   ]
  },
  {
   "cell_type": "code",
   "execution_count": null,
   "id": "c597af7f",
   "metadata": {},
   "outputs": [],
   "source": [
    "oneuponk_value_norm = []\n",
    "train_errors_norm = []\n",
    "test_errors_norm = []\n",
    "\n",
    "minmax_scaler = MinMaxScaler()\n",
    "X_norm = minmax_scaler.fit_transform(X)\n",
    "X_train_norm, X_test_norm, y_train_norm, y_test_norm = train_test_split(X_norm, Y, train_size = 0.7, random_state = 3940)\n",
    "\n",
    "for k_value in range(1,101,1):\n",
    "    oneuponk_value_norm.append(1/k_value)\n",
    "    KNN_model = KNNRegression(n_neighbors = k_value)\n",
    "    KNN_model.fit(X_train_norm, y_train_norm)\n",
    "    train_errors_norm.append(mean_squared_error(y_train_norm, KNN_model.predict(X_train_norm)))\n",
    "    test_errors_norm.append(mean_squared_error(y_test_norm, KNN_model.predict(X_test_norm)))\n",
    "\n",
    "figure(figsize=(10, 6))         \n",
    "plt.plot(oneuponk_value_norm, train_errors_norm, label = 'Train Error')\n",
    "plt.plot(oneuponk_value_norm, test_errors_norm, label = 'Test Error')\n",
    "plt.title('Train and Test errors in terms of 1/k (Normalised)') \n",
    "plt.xlabel('1/k value')\n",
    "plt.ylabel('Error')\n",
    "plt.legend()\n",
    "plt.show()\n",
    "\n",
    "print(\"\\033[1mBest K:\", 1/(oneuponk_value_norm[test_errors_norm.index(min(test_errors_norm))]))\n",
    "print(\"\\033[1mMinimum Train MSE:\", train_errors_norm[test_errors_norm.index(min(test_errors_norm))])\n",
    "print(\"\\033[1mMinimum Test MSE:\", min(test_errors_norm))\n",
    "all_results_df = all_results_df.append({\"Model\": \"KNN (normalized features)\", \"Train MSE\": train_errors_norm[test_errors_norm.index(min(test_errors_norm))],\"Test MSE\": min(test_errors_norm)}, ignore_index=True)"
   ]
  },
  {
   "cell_type": "markdown",
   "id": "48430d7e",
   "metadata": {},
   "source": [
    "# "
   ]
  },
  {
   "cell_type": "markdown",
   "id": "2ca5219f",
   "metadata": {},
   "source": [
    "<b>(j) Compare the results of KNN Regression with the linear regression model that has\n",
    "the smallest test error and provide your analysis.</b>"
   ]
  },
  {
   "cell_type": "code",
   "execution_count": null,
   "id": "83f3dc97",
   "metadata": {},
   "outputs": [],
   "source": [
    "print(\"\\033[1mResults:\")\n",
    "all_results_df"
   ]
  },
  {
   "cell_type": "markdown",
   "id": "34976c8c",
   "metadata": {},
   "source": [
    "<h3><b>Discussion</b></h3>\n",
    "\n",
    "- <b>KNN Regression demonstrates superior performance with the least test MSE of 14.41, whereas Linear Regression achieves a minimum test MSE of 17.80. This suggests that KNN outperforms Linear Regression.</b>\n",
    "\n",
    "- <b>Normalization of features enhances KNN's performance, as seen with KNN (normalized features) having a test MSE of 14.41 compared to KNN (raw features) with a test MSE of 16.12.</b>\n",
    "\n",
    "- <b>KNN is a non-parametric model, while LR is parametric. However, KNN is computationally more intensive than Linear Regression, necessitating consideration of resource constraints.<b>\n",
    "\n",
    "- <b>The optimal K value for KNN is K = 5, resulting in the lowest test error. It's important to note that smaller K values may lead to overfitting, and this should be taken into account.<b>\n",
    "\n",
    "- <b>The superior performance of KNN Regression could be attributed to the non-linear nature of the data, as KNN has the flexibility to capture non-linear relationships effectively.<b>"
   ]
  },
  {
   "cell_type": "markdown",
   "id": "cd4e7942",
   "metadata": {},
   "source": [
    "# "
   ]
  },
  {
   "cell_type": "markdown",
   "id": "70320080",
   "metadata": {},
   "source": [
    "<b>2. ISLR: 2.4.1</b>"
   ]
  },
  {
   "cell_type": "markdown",
   "id": "35fa4a6e",
   "metadata": {},
   "source": [
    "<b>(a) The sample size n is extremely large, and the number of predictors p is small.</b><br>\n",
    "    \n",
    "- <b>Answer: BETTER</b>, Flexible methods tend to perform better when dealing with a large sample size (n) and a small number of predictors (p). The large sample size helps mitigate the risk of overfitting, which is a common challenge with flexible models. Additionally, in scenarios with limited predictors, flexible models can capture interactions and patterns more effectively, leading to improved fit and predictive accuracy. In such cases, opting for a flexible method is generally the better choice, as inflexible methods may suffer from underfitting in large sample sizes."
   ]
  },
  {
   "cell_type": "markdown",
   "id": "eb5e954c",
   "metadata": {},
   "source": [
    "<b>    (b) The number of predictors p is extremely large, and the number of observations n is small. </b>\n",
    "- <b>Answer: WORSE</b>, In the context of a small sample size (n) and a large number of predictors (p), flexible model will perform worse than an inflexible model as flexible model will overfit to the training data."
   ]
  },
  {
   "cell_type": "markdown",
   "id": "e531aa07",
   "metadata": {},
   "source": [
    "<b>    (c) The relationship between the predictors and response is highly non-linear. </b>\n",
    "- <b>Answer: BETTER</b>, In situations where data exhibits strong non-linear relationships between predictors and the response variable, flexible models tend to perform better than inflexible ones. Flexible models excel at capturing complex interactions and accommodating non-linear patterns, making them the preferred choice for such datasets. Therefore, when dealing with non-linear data, using a flexible model is the better option for achieving accurate modeling and predictions."
   ]
  },
  {
   "cell_type": "markdown",
   "id": "171408df",
   "metadata": {},
   "source": [
    "<b>(d) The variance of the error terms, i.e. σ2 = Var(ε), is extremely high.</b>\n",
    "- <b>Answer: WORSE</b>, In this scenario, the performance of a flexible statistical learning method is worse than an inflexible method. This is because a high variance of the error terms indicates a lot of noise in the data, and flexible models are more likely to overfit, fitting noise rather than true patterns, which hinders their performance. Inflexible models tend to be less affected by high-variance data and can perform better in such cases."
   ]
  },
  {
   "cell_type": "markdown",
   "id": "ecedd6cd",
   "metadata": {},
   "source": [
    "# "
   ]
  },
  {
   "cell_type": "markdown",
   "id": "8d3bf2ac",
   "metadata": {},
   "source": [
    "<b>3. ISLR: 2.4.7</b>"
   ]
  },
  {
   "cell_type": "markdown",
   "id": "777ee2af",
   "metadata": {},
   "source": [
    "<b>(a) Compute the Euclidean distance between each observation and the test point, $X1 = X2 = X3 =0$.</b>"
   ]
  },
  {
   "cell_type": "code",
   "execution_count": null,
   "id": "613c229d",
   "metadata": {},
   "outputs": [],
   "source": [
    "X_data = [\n",
    "    [0, 3, 0],\n",
    "    [2, 0, 0],\n",
    "    [0, 1, 3],\n",
    "    [0, 1, 2],\n",
    "    [-1, 0, 1],\n",
    "    [1, 1, 1]\n",
    "]\n",
    "\n",
    "test_point = [[0, 0, 0]]\n",
    "\n",
    "\n",
    "euclidean_distance_result = euclidean_distances(X_data, test_point)\n",
    "euclidean_distance_values = euclidean_distance_result.tolist()\n",
    "\n",
    "print(\"\\033[1mEuclidean distance between each observation and the test point using library:\")\n",
    "\n",
    "for i in range(len(euclidean_distance_values)):\n",
    "    print(\"  Observation \"+str(i+1)+\": \"+ str(euclidean_distance_values[i][0]))"
   ]
  },
  {
   "cell_type": "markdown",
   "id": "b463ccc4",
   "metadata": {},
   "source": [
    "<b>Euclidean distance between each observation and the test point using formula:</b>\n",
    "\n",
    "Observation 1:\n",
    "$ Distance = \\sqrt { (3)^2 }\\, = 3$  \n",
    "\n",
    "Observation 2:\n",
    "$ Distance = \\sqrt { (2)^2 }\\, = 2$  \n",
    "\n",
    "Observation 3:\n",
    "$ Distance = \\sqrt { (1)^2 + (3)^2 }\\, = 3.16$  \n",
    "\n",
    "Observation 4:\n",
    "$ Distance = \\sqrt { (1)^2 + (2)^2 }\\, = 2.23$\n",
    "\n",
    "Observation 5:\n",
    "$ Distance = \\sqrt { (-1)^2 + (1)^2 }\\, = 1.41$    \n",
    "\n",
    "Observation 6:\n",
    "$ Distance = \\sqrt { (1)^2 + (1)^2 + (1)^2 }\\, = 1.73$"
   ]
  },
  {
   "cell_type": "markdown",
   "id": "76be0f0e",
   "metadata": {},
   "source": [
    "<b>(b) What is our prediction with K = 1? Why?</b><br>\n",
    "\n",
    "<b>Answer:</b> For K = 1, the prediction would be <b>Green</b> as the nearest point to the test point (X1, X2, X3) = (0, 0, 0) is\n",
    "\n",
    "        Observation 5 (X1, X2, X3) = (-1, 0, 1)."
   ]
  },
  {
   "cell_type": "markdown",
   "id": "5c6fc2ff",
   "metadata": {},
   "source": [
    "<b>(c) What is our prediction with K = 3? Why?</b><br>\n",
    "\n",
    "<b>Answer:</b> For K = 3, the prediction would be <b>Red</b> as the 3 nearest points to the test point (X1, X2, X3) = (0, 0, 0) are <br>\n",
    "\n",
    "    Observation 5 (X1, X2, X3) = (-1, 0, 1) : Green\n",
    "    Observation 6 (X1, X2, X3) = (1, 1, 1)  : Red\n",
    "    Observation 2 (X1, X2, X3) = (2, 0, 0)  : Red\n",
    "According to majority polling (Red), output is Red."
   ]
  },
  {
   "cell_type": "markdown",
   "id": "eb00346c",
   "metadata": {},
   "source": [
    "<b>(d) If the Bayes decision boundary in this problem is highly non-linear, then would we expect the best value for K to be large or small? Why?</b><br>\n",
    "\n",
    "<b>Answer:</b> Given the the problem's decision boundary is highly non-linear, it is advisable to choose a smaller value for K. A smaller K enhances flexibility and helps the model better fit the non-linear data, whereas a larger K tends to produce a more linear boundary by considering more neighbors, which may not be suitable."
   ]
  },
  {
   "cell_type": "markdown",
   "id": "e2771885",
   "metadata": {},
   "source": [
    "<center><b>Thank You</b></center>"
   ]
  }
 ],
 "metadata": {
  "kernelspec": {
   "display_name": "Python 3 (ipykernel)",
   "language": "python",
   "name": "python3"
  },
  "language_info": {
   "codemirror_mode": {
    "name": "ipython",
    "version": 3
   },
   "file_extension": ".py",
   "mimetype": "text/x-python",
   "name": "python",
   "nbconvert_exporter": "python",
   "pygments_lexer": "ipython3",
   "version": "3.9.12"
  }
 },
 "nbformat": 4,
 "nbformat_minor": 5
}
